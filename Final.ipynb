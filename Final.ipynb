{
 "cells": [
  {
   "cell_type": "markdown",
   "metadata": {},
   "source": [
    "# Importing Libraries"
   ]
  },
  {
   "cell_type": "code",
   "execution_count": 1,
   "metadata": {},
   "outputs": [],
   "source": [
    "import pandas as pd\n",
    "import numpy as np\n",
    "import seaborn as sns\n",
    "import matplotlib.pyplot as plt\n",
    "\n",
    "import warnings\n",
    "warnings.filterwarnings(\"ignore\")\n",
    "\n",
    "from sklearn.preprocessing import LabelEncoder\n",
    "\n",
    "from sklearn.model_selection import train_test_split\n",
    "\n",
    "from sklearn.linear_model import LogisticRegression\n",
    "from sklearn.tree import DecisionTreeClassifier\n",
    "from sklearn.ensemble import RandomForestClassifier\n",
    "from sklearn.neighbors import KNeighborsClassifier\n",
    "from sklearn.svm import SVC\n",
    "\n",
    "\n",
    "from sklearn.metrics import confusion_matrix, accuracy_score, f1_score,recall_score,precision_score\n",
    "\n"
   ]
  },
  {
   "cell_type": "code",
   "execution_count": null,
   "metadata": {},
   "outputs": [],
   "source": []
  },
  {
   "cell_type": "markdown",
   "metadata": {},
   "source": [
    "# Data Collection"
   ]
  },
  {
   "cell_type": "code",
   "execution_count": 2,
   "metadata": {},
   "outputs": [
    {
     "data": {
      "text/html": [
       "<div>\n",
       "<style scoped>\n",
       "    .dataframe tbody tr th:only-of-type {\n",
       "        vertical-align: middle;\n",
       "    }\n",
       "\n",
       "    .dataframe tbody tr th {\n",
       "        vertical-align: top;\n",
       "    }\n",
       "\n",
       "    .dataframe thead th {\n",
       "        text-align: right;\n",
       "    }\n",
       "</style>\n",
       "<table border=\"1\" class=\"dataframe\">\n",
       "  <thead>\n",
       "    <tr style=\"text-align: right;\">\n",
       "      <th></th>\n",
       "      <th>order_id</th>\n",
       "      <th>order_date</th>\n",
       "      <th>ship_date</th>\n",
       "      <th>ship_mode</th>\n",
       "      <th>customer_name</th>\n",
       "      <th>segment</th>\n",
       "      <th>market</th>\n",
       "      <th>region</th>\n",
       "      <th>product_id</th>\n",
       "      <th>category</th>\n",
       "      <th>order_priority</th>\n",
       "      <th>cost price</th>\n",
       "      <th>quantity</th>\n",
       "      <th>discount percent</th>\n",
       "      <th>profit</th>\n",
       "      <th>shipping_cost</th>\n",
       "    </tr>\n",
       "  </thead>\n",
       "  <tbody>\n",
       "    <tr>\n",
       "      <th>0</th>\n",
       "      <td>AG-2011-2040</td>\n",
       "      <td>2011-01-01</td>\n",
       "      <td>2011-01-06</td>\n",
       "      <td>Standard Class</td>\n",
       "      <td>Toby Braunhardt</td>\n",
       "      <td>Consumer</td>\n",
       "      <td>Africa</td>\n",
       "      <td>Africa</td>\n",
       "      <td>OFF-TEN-10000025</td>\n",
       "      <td>Office Supplies</td>\n",
       "      <td>Medium</td>\n",
       "      <td>408.300</td>\n",
       "      <td>2</td>\n",
       "      <td>0.0</td>\n",
       "      <td>106.140</td>\n",
       "      <td>35.46</td>\n",
       "    </tr>\n",
       "    <tr>\n",
       "      <th>1</th>\n",
       "      <td>IN-2011-47883</td>\n",
       "      <td>2011-01-01</td>\n",
       "      <td>2011-01-08</td>\n",
       "      <td>Standard Class</td>\n",
       "      <td>Joseph Holt</td>\n",
       "      <td>Consumer</td>\n",
       "      <td>APAC</td>\n",
       "      <td>Oceania</td>\n",
       "      <td>OFF-SU-10000618</td>\n",
       "      <td>Office Supplies</td>\n",
       "      <td>Medium</td>\n",
       "      <td>120.366</td>\n",
       "      <td>3</td>\n",
       "      <td>0.1</td>\n",
       "      <td>36.036</td>\n",
       "      <td>9.72</td>\n",
       "    </tr>\n",
       "    <tr>\n",
       "      <th>2</th>\n",
       "      <td>HU-2011-1220</td>\n",
       "      <td>2011-01-01</td>\n",
       "      <td>2011-01-05</td>\n",
       "      <td>Second Class</td>\n",
       "      <td>Annie Thurman</td>\n",
       "      <td>Consumer</td>\n",
       "      <td>EMEA</td>\n",
       "      <td>EMEA</td>\n",
       "      <td>OFF-TEN-10001585</td>\n",
       "      <td>Office Supplies</td>\n",
       "      <td>High</td>\n",
       "      <td>66.120</td>\n",
       "      <td>4</td>\n",
       "      <td>0.0</td>\n",
       "      <td>29.640</td>\n",
       "      <td>8.17</td>\n",
       "    </tr>\n",
       "    <tr>\n",
       "      <th>3</th>\n",
       "      <td>IT-2011-3647632</td>\n",
       "      <td>2011-01-01</td>\n",
       "      <td>2011-01-05</td>\n",
       "      <td>Second Class</td>\n",
       "      <td>Eugene Moren</td>\n",
       "      <td>Home Office</td>\n",
       "      <td>EU</td>\n",
       "      <td>North</td>\n",
       "      <td>OFF-PA-10001492</td>\n",
       "      <td>Office Supplies</td>\n",
       "      <td>High</td>\n",
       "      <td>44.865</td>\n",
       "      <td>3</td>\n",
       "      <td>0.5</td>\n",
       "      <td>-26.055</td>\n",
       "      <td>4.82</td>\n",
       "    </tr>\n",
       "    <tr>\n",
       "      <th>4</th>\n",
       "      <td>IN-2011-47883</td>\n",
       "      <td>2011-01-01</td>\n",
       "      <td>2011-01-08</td>\n",
       "      <td>Standard Class</td>\n",
       "      <td>Joseph Holt</td>\n",
       "      <td>Consumer</td>\n",
       "      <td>APAC</td>\n",
       "      <td>Oceania</td>\n",
       "      <td>FUR-FU-10003447</td>\n",
       "      <td>Furniture</td>\n",
       "      <td>Medium</td>\n",
       "      <td>113.670</td>\n",
       "      <td>5</td>\n",
       "      <td>0.1</td>\n",
       "      <td>37.770</td>\n",
       "      <td>4.70</td>\n",
       "    </tr>\n",
       "  </tbody>\n",
       "</table>\n",
       "</div>"
      ],
      "text/plain": [
       "          order_id order_date  ship_date       ship_mode    customer_name  \\\n",
       "0     AG-2011-2040 2011-01-01 2011-01-06  Standard Class  Toby Braunhardt   \n",
       "1    IN-2011-47883 2011-01-01 2011-01-08  Standard Class      Joseph Holt   \n",
       "2     HU-2011-1220 2011-01-01 2011-01-05    Second Class    Annie Thurman   \n",
       "3  IT-2011-3647632 2011-01-01 2011-01-05    Second Class     Eugene Moren   \n",
       "4    IN-2011-47883 2011-01-01 2011-01-08  Standard Class      Joseph Holt   \n",
       "\n",
       "       segment  market   region        product_id         category  \\\n",
       "0     Consumer  Africa   Africa  OFF-TEN-10000025  Office Supplies   \n",
       "1     Consumer    APAC  Oceania   OFF-SU-10000618  Office Supplies   \n",
       "2     Consumer    EMEA     EMEA  OFF-TEN-10001585  Office Supplies   \n",
       "3  Home Office      EU    North   OFF-PA-10001492  Office Supplies   \n",
       "4     Consumer    APAC  Oceania   FUR-FU-10003447        Furniture   \n",
       "\n",
       "  order_priority  cost price  quantity  discount percent   profit  \\\n",
       "0         Medium     408.300         2               0.0  106.140   \n",
       "1         Medium     120.366         3               0.1   36.036   \n",
       "2           High      66.120         4               0.0   29.640   \n",
       "3           High      44.865         3               0.5  -26.055   \n",
       "4         Medium     113.670         5               0.1   37.770   \n",
       "\n",
       "   shipping_cost  \n",
       "0          35.46  \n",
       "1           9.72  \n",
       "2           8.17  \n",
       "3           4.82  \n",
       "4           4.70  "
      ]
     },
     "execution_count": 2,
     "metadata": {},
     "output_type": "execute_result"
    }
   ],
   "source": [
    "df = pd.read_excel('superstore_sales.xlsx')\n",
    "df.head()"
   ]
  },
  {
   "cell_type": "markdown",
   "metadata": {},
   "source": [
    "# Information About DataSet"
   ]
  },
  {
   "cell_type": "code",
   "execution_count": 3,
   "metadata": {},
   "outputs": [
    {
     "data": {
      "text/plain": [
       "(51290, 16)"
      ]
     },
     "execution_count": 3,
     "metadata": {},
     "output_type": "execute_result"
    }
   ],
   "source": [
    "df.shape"
   ]
  },
  {
   "cell_type": "code",
   "execution_count": 4,
   "metadata": {},
   "outputs": [
    {
     "data": {
      "text/plain": [
       "Index(['order_id', 'order_date', 'ship_date', 'ship_mode', 'customer_name',\n",
       "       'segment', 'market', 'region', 'product_id', 'category',\n",
       "       'order_priority', 'cost price', 'quantity', 'discount percent',\n",
       "       'profit', 'shipping_cost'],\n",
       "      dtype='object')"
      ]
     },
     "execution_count": 4,
     "metadata": {},
     "output_type": "execute_result"
    }
   ],
   "source": [
    "df.columns"
   ]
  },
  {
   "cell_type": "markdown",
   "metadata": {},
   "source": [
    "### Features\n",
    "\n",
    "##### 1. Order_ID :- Unique Value assigned to each Order.\n",
    "\n",
    "\n",
    "##### 2. Order Date :- Date On which Order was made.\n",
    "\n",
    "\n",
    "##### 3. Ship Date :- Date on which the Product was delivered.\n",
    "\n",
    "\n",
    "##### 4. Ship Mode :- Type of Class Through which the Product was delivered.\n",
    "\n",
    "\n",
    "##### 5. Customer Name :- Name of the Customer.\n",
    "\n",
    "\n",
    "##### 6. Segment :- Purpose for which the Product was ordered. (Consumer/Home/Corporate).\n",
    "\n",
    "\n",
    "##### 7. Market :- Place from where the Product was brought to the Store.\n",
    "\n",
    "\n",
    "##### 8. Region :- Place where the Product was delivered.\n",
    "\n",
    "\n",
    "##### 9. Product Id :- Unique Value for each Product.\n",
    "\n",
    "\n",
    "##### 10. Category :- Type of the Product (Technology/Furniture, etc.).\n",
    "\n",
    "\n",
    "##### 11. Order Priority :- How important an Order is.\n",
    "\n",
    "\n",
    "##### 12. Cost Price :- Price of Each Product. (USD)\n",
    "\n",
    "\n",
    "##### 13. Quantity :- Number of Products bought.\n",
    "\n",
    "\n",
    "##### 14. Discount Percent :- Percentage of Discount given on that Product.\n",
    "\n",
    "\n",
    "##### 15. Profit :- Profit Earned by selling that Product. It is negative if there is loss. (USD)\n",
    "\n",
    "\n",
    "##### 16. Shipping Cost :- Cost for delivering the Product. (USD)\n"
   ]
  },
  {
   "cell_type": "code",
   "execution_count": 5,
   "metadata": {},
   "outputs": [
    {
     "name": "stdout",
     "output_type": "stream",
     "text": [
      "<class 'pandas.core.frame.DataFrame'>\n",
      "RangeIndex: 51290 entries, 0 to 51289\n",
      "Data columns (total 16 columns):\n",
      " #   Column            Non-Null Count  Dtype         \n",
      "---  ------            --------------  -----         \n",
      " 0   order_id          51290 non-null  object        \n",
      " 1   order_date        51290 non-null  datetime64[ns]\n",
      " 2   ship_date         51290 non-null  datetime64[ns]\n",
      " 3   ship_mode         51290 non-null  object        \n",
      " 4   customer_name     51290 non-null  object        \n",
      " 5   segment           51290 non-null  object        \n",
      " 6   market            51290 non-null  object        \n",
      " 7   region            51290 non-null  object        \n",
      " 8   product_id        51290 non-null  object        \n",
      " 9   category          51290 non-null  object        \n",
      " 10  order_priority    51290 non-null  object        \n",
      " 11  cost price        51290 non-null  float64       \n",
      " 12  quantity          51290 non-null  int64         \n",
      " 13  discount percent  51290 non-null  float64       \n",
      " 14  profit            51290 non-null  float64       \n",
      " 15  shipping_cost     51290 non-null  float64       \n",
      "dtypes: datetime64[ns](2), float64(4), int64(1), object(9)\n",
      "memory usage: 6.3+ MB\n"
     ]
    }
   ],
   "source": [
    "df.info()"
   ]
  },
  {
   "cell_type": "code",
   "execution_count": 6,
   "metadata": {},
   "outputs": [
    {
     "data": {
      "text/html": [
       "<div>\n",
       "<style scoped>\n",
       "    .dataframe tbody tr th:only-of-type {\n",
       "        vertical-align: middle;\n",
       "    }\n",
       "\n",
       "    .dataframe tbody tr th {\n",
       "        vertical-align: top;\n",
       "    }\n",
       "\n",
       "    .dataframe thead th {\n",
       "        text-align: right;\n",
       "    }\n",
       "</style>\n",
       "<table border=\"1\" class=\"dataframe\">\n",
       "  <thead>\n",
       "    <tr style=\"text-align: right;\">\n",
       "      <th></th>\n",
       "      <th>cost price</th>\n",
       "      <th>quantity</th>\n",
       "      <th>discount percent</th>\n",
       "      <th>profit</th>\n",
       "      <th>shipping_cost</th>\n",
       "    </tr>\n",
       "  </thead>\n",
       "  <tbody>\n",
       "    <tr>\n",
       "      <th>count</th>\n",
       "      <td>51290.000000</td>\n",
       "      <td>51290.000000</td>\n",
       "      <td>51290.000000</td>\n",
       "      <td>51290.000000</td>\n",
       "      <td>51290.000000</td>\n",
       "    </tr>\n",
       "    <tr>\n",
       "      <th>mean</th>\n",
       "      <td>246.490581</td>\n",
       "      <td>3.476545</td>\n",
       "      <td>0.142908</td>\n",
       "      <td>28.641740</td>\n",
       "      <td>26.375818</td>\n",
       "    </tr>\n",
       "    <tr>\n",
       "      <th>std</th>\n",
       "      <td>487.565361</td>\n",
       "      <td>2.278766</td>\n",
       "      <td>0.212280</td>\n",
       "      <td>174.424113</td>\n",
       "      <td>57.296810</td>\n",
       "    </tr>\n",
       "    <tr>\n",
       "      <th>min</th>\n",
       "      <td>0.444000</td>\n",
       "      <td>1.000000</td>\n",
       "      <td>0.000000</td>\n",
       "      <td>-6599.978000</td>\n",
       "      <td>0.002000</td>\n",
       "    </tr>\n",
       "    <tr>\n",
       "      <th>25%</th>\n",
       "      <td>30.758625</td>\n",
       "      <td>2.000000</td>\n",
       "      <td>0.000000</td>\n",
       "      <td>0.000000</td>\n",
       "      <td>2.610000</td>\n",
       "    </tr>\n",
       "    <tr>\n",
       "      <th>50%</th>\n",
       "      <td>85.053000</td>\n",
       "      <td>3.000000</td>\n",
       "      <td>0.000000</td>\n",
       "      <td>9.240000</td>\n",
       "      <td>7.790000</td>\n",
       "    </tr>\n",
       "    <tr>\n",
       "      <th>75%</th>\n",
       "      <td>251.053200</td>\n",
       "      <td>5.000000</td>\n",
       "      <td>0.200000</td>\n",
       "      <td>36.810000</td>\n",
       "      <td>24.450000</td>\n",
       "    </tr>\n",
       "    <tr>\n",
       "      <th>max</th>\n",
       "      <td>22638.480000</td>\n",
       "      <td>14.000000</td>\n",
       "      <td>0.850000</td>\n",
       "      <td>8399.976000</td>\n",
       "      <td>933.570000</td>\n",
       "    </tr>\n",
       "  </tbody>\n",
       "</table>\n",
       "</div>"
      ],
      "text/plain": [
       "         cost price      quantity  discount percent        profit  \\\n",
       "count  51290.000000  51290.000000      51290.000000  51290.000000   \n",
       "mean     246.490581      3.476545          0.142908     28.641740   \n",
       "std      487.565361      2.278766          0.212280    174.424113   \n",
       "min        0.444000      1.000000          0.000000  -6599.978000   \n",
       "25%       30.758625      2.000000          0.000000      0.000000   \n",
       "50%       85.053000      3.000000          0.000000      9.240000   \n",
       "75%      251.053200      5.000000          0.200000     36.810000   \n",
       "max    22638.480000     14.000000          0.850000   8399.976000   \n",
       "\n",
       "       shipping_cost  \n",
       "count   51290.000000  \n",
       "mean       26.375818  \n",
       "std        57.296810  \n",
       "min         0.002000  \n",
       "25%         2.610000  \n",
       "50%         7.790000  \n",
       "75%        24.450000  \n",
       "max       933.570000  "
      ]
     },
     "execution_count": 6,
     "metadata": {},
     "output_type": "execute_result"
    }
   ],
   "source": [
    "df.describe()"
   ]
  },
  {
   "cell_type": "markdown",
   "metadata": {},
   "source": [
    "## Data Preparation for Exploratory Data Analysis"
   ]
  },
  {
   "cell_type": "markdown",
   "metadata": {},
   "source": [
    "##### Here, there are certain columns which do not contribute to the Target Variable"
   ]
  },
  {
   "cell_type": "code",
   "execution_count": 7,
   "metadata": {},
   "outputs": [],
   "source": [
    "df.drop(['order_id','customer_name','product_id'],axis=1,inplace=True)"
   ]
  },
  {
   "cell_type": "code",
   "execution_count": 8,
   "metadata": {},
   "outputs": [
    {
     "data": {
      "text/plain": [
       "Index(['order_date', 'ship_date', 'ship_mode', 'segment', 'market', 'region',\n",
       "       'category', 'order_priority', 'cost price', 'quantity',\n",
       "       'discount percent', 'profit', 'shipping_cost'],\n",
       "      dtype='object')"
      ]
     },
     "execution_count": 8,
     "metadata": {},
     "output_type": "execute_result"
    }
   ],
   "source": [
    "df.columns"
   ]
  },
  {
   "cell_type": "markdown",
   "metadata": {},
   "source": [
    "#### Now Order_Date and Ship_Date can be made as 1 feature as Number of days to Ship the Product"
   ]
  },
  {
   "cell_type": "code",
   "execution_count": 9,
   "metadata": {},
   "outputs": [
    {
     "data": {
      "text/html": [
       "<div>\n",
       "<style scoped>\n",
       "    .dataframe tbody tr th:only-of-type {\n",
       "        vertical-align: middle;\n",
       "    }\n",
       "\n",
       "    .dataframe tbody tr th {\n",
       "        vertical-align: top;\n",
       "    }\n",
       "\n",
       "    .dataframe thead th {\n",
       "        text-align: right;\n",
       "    }\n",
       "</style>\n",
       "<table border=\"1\" class=\"dataframe\">\n",
       "  <thead>\n",
       "    <tr style=\"text-align: right;\">\n",
       "      <th></th>\n",
       "      <th>order_date</th>\n",
       "      <th>ship_date</th>\n",
       "      <th>ship_mode</th>\n",
       "      <th>segment</th>\n",
       "      <th>market</th>\n",
       "      <th>region</th>\n",
       "      <th>category</th>\n",
       "      <th>order_priority</th>\n",
       "      <th>cost price</th>\n",
       "      <th>quantity</th>\n",
       "      <th>discount percent</th>\n",
       "      <th>profit</th>\n",
       "      <th>shipping_cost</th>\n",
       "      <th>Days to Ship</th>\n",
       "    </tr>\n",
       "  </thead>\n",
       "  <tbody>\n",
       "    <tr>\n",
       "      <th>0</th>\n",
       "      <td>2011-01-01</td>\n",
       "      <td>2011-01-06</td>\n",
       "      <td>Standard Class</td>\n",
       "      <td>Consumer</td>\n",
       "      <td>Africa</td>\n",
       "      <td>Africa</td>\n",
       "      <td>Office Supplies</td>\n",
       "      <td>Medium</td>\n",
       "      <td>408.300</td>\n",
       "      <td>2</td>\n",
       "      <td>0.0</td>\n",
       "      <td>106.140</td>\n",
       "      <td>35.46</td>\n",
       "      <td>5 days</td>\n",
       "    </tr>\n",
       "    <tr>\n",
       "      <th>1</th>\n",
       "      <td>2011-01-01</td>\n",
       "      <td>2011-01-08</td>\n",
       "      <td>Standard Class</td>\n",
       "      <td>Consumer</td>\n",
       "      <td>APAC</td>\n",
       "      <td>Oceania</td>\n",
       "      <td>Office Supplies</td>\n",
       "      <td>Medium</td>\n",
       "      <td>120.366</td>\n",
       "      <td>3</td>\n",
       "      <td>0.1</td>\n",
       "      <td>36.036</td>\n",
       "      <td>9.72</td>\n",
       "      <td>7 days</td>\n",
       "    </tr>\n",
       "    <tr>\n",
       "      <th>2</th>\n",
       "      <td>2011-01-01</td>\n",
       "      <td>2011-01-05</td>\n",
       "      <td>Second Class</td>\n",
       "      <td>Consumer</td>\n",
       "      <td>EMEA</td>\n",
       "      <td>EMEA</td>\n",
       "      <td>Office Supplies</td>\n",
       "      <td>High</td>\n",
       "      <td>66.120</td>\n",
       "      <td>4</td>\n",
       "      <td>0.0</td>\n",
       "      <td>29.640</td>\n",
       "      <td>8.17</td>\n",
       "      <td>4 days</td>\n",
       "    </tr>\n",
       "    <tr>\n",
       "      <th>3</th>\n",
       "      <td>2011-01-01</td>\n",
       "      <td>2011-01-05</td>\n",
       "      <td>Second Class</td>\n",
       "      <td>Home Office</td>\n",
       "      <td>EU</td>\n",
       "      <td>North</td>\n",
       "      <td>Office Supplies</td>\n",
       "      <td>High</td>\n",
       "      <td>44.865</td>\n",
       "      <td>3</td>\n",
       "      <td>0.5</td>\n",
       "      <td>-26.055</td>\n",
       "      <td>4.82</td>\n",
       "      <td>4 days</td>\n",
       "    </tr>\n",
       "    <tr>\n",
       "      <th>4</th>\n",
       "      <td>2011-01-01</td>\n",
       "      <td>2011-01-08</td>\n",
       "      <td>Standard Class</td>\n",
       "      <td>Consumer</td>\n",
       "      <td>APAC</td>\n",
       "      <td>Oceania</td>\n",
       "      <td>Furniture</td>\n",
       "      <td>Medium</td>\n",
       "      <td>113.670</td>\n",
       "      <td>5</td>\n",
       "      <td>0.1</td>\n",
       "      <td>37.770</td>\n",
       "      <td>4.70</td>\n",
       "      <td>7 days</td>\n",
       "    </tr>\n",
       "  </tbody>\n",
       "</table>\n",
       "</div>"
      ],
      "text/plain": [
       "  order_date  ship_date       ship_mode      segment  market   region  \\\n",
       "0 2011-01-01 2011-01-06  Standard Class     Consumer  Africa   Africa   \n",
       "1 2011-01-01 2011-01-08  Standard Class     Consumer    APAC  Oceania   \n",
       "2 2011-01-01 2011-01-05    Second Class     Consumer    EMEA     EMEA   \n",
       "3 2011-01-01 2011-01-05    Second Class  Home Office      EU    North   \n",
       "4 2011-01-01 2011-01-08  Standard Class     Consumer    APAC  Oceania   \n",
       "\n",
       "          category order_priority  cost price  quantity  discount percent  \\\n",
       "0  Office Supplies         Medium     408.300         2               0.0   \n",
       "1  Office Supplies         Medium     120.366         3               0.1   \n",
       "2  Office Supplies           High      66.120         4               0.0   \n",
       "3  Office Supplies           High      44.865         3               0.5   \n",
       "4        Furniture         Medium     113.670         5               0.1   \n",
       "\n",
       "    profit  shipping_cost Days to Ship  \n",
       "0  106.140          35.46       5 days  \n",
       "1   36.036           9.72       7 days  \n",
       "2   29.640           8.17       4 days  \n",
       "3  -26.055           4.82       4 days  \n",
       "4   37.770           4.70       7 days  "
      ]
     },
     "execution_count": 9,
     "metadata": {},
     "output_type": "execute_result"
    }
   ],
   "source": [
    "df['Days to Ship'] = df['ship_date'].sub(df['order_date'], axis=0)\n",
    "df.head()"
   ]
  },
  {
   "cell_type": "code",
   "execution_count": 10,
   "metadata": {},
   "outputs": [
    {
     "data": {
      "text/plain": [
       "dtype('<m8[ns]')"
      ]
     },
     "execution_count": 10,
     "metadata": {},
     "output_type": "execute_result"
    }
   ],
   "source": [
    "df['Days to Ship'].dtypes"
   ]
  },
  {
   "cell_type": "markdown",
   "metadata": {},
   "source": [
    "#### Considering Only Days for Days to Ship, Because it is Time Delta"
   ]
  },
  {
   "cell_type": "code",
   "execution_count": 11,
   "metadata": {},
   "outputs": [
    {
     "data": {
      "text/html": [
       "<div>\n",
       "<style scoped>\n",
       "    .dataframe tbody tr th:only-of-type {\n",
       "        vertical-align: middle;\n",
       "    }\n",
       "\n",
       "    .dataframe tbody tr th {\n",
       "        vertical-align: top;\n",
       "    }\n",
       "\n",
       "    .dataframe thead th {\n",
       "        text-align: right;\n",
       "    }\n",
       "</style>\n",
       "<table border=\"1\" class=\"dataframe\">\n",
       "  <thead>\n",
       "    <tr style=\"text-align: right;\">\n",
       "      <th></th>\n",
       "      <th>order_date</th>\n",
       "      <th>ship_date</th>\n",
       "      <th>ship_mode</th>\n",
       "      <th>segment</th>\n",
       "      <th>market</th>\n",
       "      <th>region</th>\n",
       "      <th>category</th>\n",
       "      <th>order_priority</th>\n",
       "      <th>cost price</th>\n",
       "      <th>quantity</th>\n",
       "      <th>discount percent</th>\n",
       "      <th>profit</th>\n",
       "      <th>shipping_cost</th>\n",
       "      <th>Days to Ship</th>\n",
       "    </tr>\n",
       "  </thead>\n",
       "  <tbody>\n",
       "    <tr>\n",
       "      <th>0</th>\n",
       "      <td>2011-01-01</td>\n",
       "      <td>2011-01-06</td>\n",
       "      <td>Standard Class</td>\n",
       "      <td>Consumer</td>\n",
       "      <td>Africa</td>\n",
       "      <td>Africa</td>\n",
       "      <td>Office Supplies</td>\n",
       "      <td>Medium</td>\n",
       "      <td>408.300</td>\n",
       "      <td>2</td>\n",
       "      <td>0.0</td>\n",
       "      <td>106.140</td>\n",
       "      <td>35.46</td>\n",
       "      <td>5</td>\n",
       "    </tr>\n",
       "    <tr>\n",
       "      <th>1</th>\n",
       "      <td>2011-01-01</td>\n",
       "      <td>2011-01-08</td>\n",
       "      <td>Standard Class</td>\n",
       "      <td>Consumer</td>\n",
       "      <td>APAC</td>\n",
       "      <td>Oceania</td>\n",
       "      <td>Office Supplies</td>\n",
       "      <td>Medium</td>\n",
       "      <td>120.366</td>\n",
       "      <td>3</td>\n",
       "      <td>0.1</td>\n",
       "      <td>36.036</td>\n",
       "      <td>9.72</td>\n",
       "      <td>7</td>\n",
       "    </tr>\n",
       "    <tr>\n",
       "      <th>2</th>\n",
       "      <td>2011-01-01</td>\n",
       "      <td>2011-01-05</td>\n",
       "      <td>Second Class</td>\n",
       "      <td>Consumer</td>\n",
       "      <td>EMEA</td>\n",
       "      <td>EMEA</td>\n",
       "      <td>Office Supplies</td>\n",
       "      <td>High</td>\n",
       "      <td>66.120</td>\n",
       "      <td>4</td>\n",
       "      <td>0.0</td>\n",
       "      <td>29.640</td>\n",
       "      <td>8.17</td>\n",
       "      <td>4</td>\n",
       "    </tr>\n",
       "    <tr>\n",
       "      <th>3</th>\n",
       "      <td>2011-01-01</td>\n",
       "      <td>2011-01-05</td>\n",
       "      <td>Second Class</td>\n",
       "      <td>Home Office</td>\n",
       "      <td>EU</td>\n",
       "      <td>North</td>\n",
       "      <td>Office Supplies</td>\n",
       "      <td>High</td>\n",
       "      <td>44.865</td>\n",
       "      <td>3</td>\n",
       "      <td>0.5</td>\n",
       "      <td>-26.055</td>\n",
       "      <td>4.82</td>\n",
       "      <td>4</td>\n",
       "    </tr>\n",
       "    <tr>\n",
       "      <th>4</th>\n",
       "      <td>2011-01-01</td>\n",
       "      <td>2011-01-08</td>\n",
       "      <td>Standard Class</td>\n",
       "      <td>Consumer</td>\n",
       "      <td>APAC</td>\n",
       "      <td>Oceania</td>\n",
       "      <td>Furniture</td>\n",
       "      <td>Medium</td>\n",
       "      <td>113.670</td>\n",
       "      <td>5</td>\n",
       "      <td>0.1</td>\n",
       "      <td>37.770</td>\n",
       "      <td>4.70</td>\n",
       "      <td>7</td>\n",
       "    </tr>\n",
       "  </tbody>\n",
       "</table>\n",
       "</div>"
      ],
      "text/plain": [
       "  order_date  ship_date       ship_mode      segment  market   region  \\\n",
       "0 2011-01-01 2011-01-06  Standard Class     Consumer  Africa   Africa   \n",
       "1 2011-01-01 2011-01-08  Standard Class     Consumer    APAC  Oceania   \n",
       "2 2011-01-01 2011-01-05    Second Class     Consumer    EMEA     EMEA   \n",
       "3 2011-01-01 2011-01-05    Second Class  Home Office      EU    North   \n",
       "4 2011-01-01 2011-01-08  Standard Class     Consumer    APAC  Oceania   \n",
       "\n",
       "          category order_priority  cost price  quantity  discount percent  \\\n",
       "0  Office Supplies         Medium     408.300         2               0.0   \n",
       "1  Office Supplies         Medium     120.366         3               0.1   \n",
       "2  Office Supplies           High      66.120         4               0.0   \n",
       "3  Office Supplies           High      44.865         3               0.5   \n",
       "4        Furniture         Medium     113.670         5               0.1   \n",
       "\n",
       "    profit  shipping_cost  Days to Ship  \n",
       "0  106.140          35.46             5  \n",
       "1   36.036           9.72             7  \n",
       "2   29.640           8.17             4  \n",
       "3  -26.055           4.82             4  \n",
       "4   37.770           4.70             7  "
      ]
     },
     "execution_count": 11,
     "metadata": {},
     "output_type": "execute_result"
    }
   ],
   "source": [
    "df['Days to Ship'] = pd.DataFrame([i.days for i in df['Days to Ship']])\n",
    "df.head()"
   ]
  },
  {
   "cell_type": "markdown",
   "metadata": {},
   "source": [
    "#### Now Removing the Order_Date and Ship_date from the dataset"
   ]
  },
  {
   "cell_type": "code",
   "execution_count": 12,
   "metadata": {},
   "outputs": [],
   "source": [
    "df.drop(['order_date','ship_date'],axis=1,inplace=True)"
   ]
  },
  {
   "cell_type": "code",
   "execution_count": 13,
   "metadata": {},
   "outputs": [
    {
     "data": {
      "text/html": [
       "<div>\n",
       "<style scoped>\n",
       "    .dataframe tbody tr th:only-of-type {\n",
       "        vertical-align: middle;\n",
       "    }\n",
       "\n",
       "    .dataframe tbody tr th {\n",
       "        vertical-align: top;\n",
       "    }\n",
       "\n",
       "    .dataframe thead th {\n",
       "        text-align: right;\n",
       "    }\n",
       "</style>\n",
       "<table border=\"1\" class=\"dataframe\">\n",
       "  <thead>\n",
       "    <tr style=\"text-align: right;\">\n",
       "      <th></th>\n",
       "      <th>ship_mode</th>\n",
       "      <th>segment</th>\n",
       "      <th>market</th>\n",
       "      <th>region</th>\n",
       "      <th>category</th>\n",
       "      <th>order_priority</th>\n",
       "      <th>cost price</th>\n",
       "      <th>quantity</th>\n",
       "      <th>discount percent</th>\n",
       "      <th>profit</th>\n",
       "      <th>shipping_cost</th>\n",
       "      <th>Days to Ship</th>\n",
       "    </tr>\n",
       "  </thead>\n",
       "  <tbody>\n",
       "    <tr>\n",
       "      <th>0</th>\n",
       "      <td>Standard Class</td>\n",
       "      <td>Consumer</td>\n",
       "      <td>Africa</td>\n",
       "      <td>Africa</td>\n",
       "      <td>Office Supplies</td>\n",
       "      <td>Medium</td>\n",
       "      <td>408.300</td>\n",
       "      <td>2</td>\n",
       "      <td>0.0</td>\n",
       "      <td>106.140</td>\n",
       "      <td>35.46</td>\n",
       "      <td>5</td>\n",
       "    </tr>\n",
       "    <tr>\n",
       "      <th>1</th>\n",
       "      <td>Standard Class</td>\n",
       "      <td>Consumer</td>\n",
       "      <td>APAC</td>\n",
       "      <td>Oceania</td>\n",
       "      <td>Office Supplies</td>\n",
       "      <td>Medium</td>\n",
       "      <td>120.366</td>\n",
       "      <td>3</td>\n",
       "      <td>0.1</td>\n",
       "      <td>36.036</td>\n",
       "      <td>9.72</td>\n",
       "      <td>7</td>\n",
       "    </tr>\n",
       "    <tr>\n",
       "      <th>2</th>\n",
       "      <td>Second Class</td>\n",
       "      <td>Consumer</td>\n",
       "      <td>EMEA</td>\n",
       "      <td>EMEA</td>\n",
       "      <td>Office Supplies</td>\n",
       "      <td>High</td>\n",
       "      <td>66.120</td>\n",
       "      <td>4</td>\n",
       "      <td>0.0</td>\n",
       "      <td>29.640</td>\n",
       "      <td>8.17</td>\n",
       "      <td>4</td>\n",
       "    </tr>\n",
       "    <tr>\n",
       "      <th>3</th>\n",
       "      <td>Second Class</td>\n",
       "      <td>Home Office</td>\n",
       "      <td>EU</td>\n",
       "      <td>North</td>\n",
       "      <td>Office Supplies</td>\n",
       "      <td>High</td>\n",
       "      <td>44.865</td>\n",
       "      <td>3</td>\n",
       "      <td>0.5</td>\n",
       "      <td>-26.055</td>\n",
       "      <td>4.82</td>\n",
       "      <td>4</td>\n",
       "    </tr>\n",
       "    <tr>\n",
       "      <th>4</th>\n",
       "      <td>Standard Class</td>\n",
       "      <td>Consumer</td>\n",
       "      <td>APAC</td>\n",
       "      <td>Oceania</td>\n",
       "      <td>Furniture</td>\n",
       "      <td>Medium</td>\n",
       "      <td>113.670</td>\n",
       "      <td>5</td>\n",
       "      <td>0.1</td>\n",
       "      <td>37.770</td>\n",
       "      <td>4.70</td>\n",
       "      <td>7</td>\n",
       "    </tr>\n",
       "  </tbody>\n",
       "</table>\n",
       "</div>"
      ],
      "text/plain": [
       "        ship_mode      segment  market   region         category  \\\n",
       "0  Standard Class     Consumer  Africa   Africa  Office Supplies   \n",
       "1  Standard Class     Consumer    APAC  Oceania  Office Supplies   \n",
       "2    Second Class     Consumer    EMEA     EMEA  Office Supplies   \n",
       "3    Second Class  Home Office      EU    North  Office Supplies   \n",
       "4  Standard Class     Consumer    APAC  Oceania        Furniture   \n",
       "\n",
       "  order_priority  cost price  quantity  discount percent   profit  \\\n",
       "0         Medium     408.300         2               0.0  106.140   \n",
       "1         Medium     120.366         3               0.1   36.036   \n",
       "2           High      66.120         4               0.0   29.640   \n",
       "3           High      44.865         3               0.5  -26.055   \n",
       "4         Medium     113.670         5               0.1   37.770   \n",
       "\n",
       "   shipping_cost  Days to Ship  \n",
       "0          35.46             5  \n",
       "1           9.72             7  \n",
       "2           8.17             4  \n",
       "3           4.82             4  \n",
       "4           4.70             7  "
      ]
     },
     "execution_count": 13,
     "metadata": {},
     "output_type": "execute_result"
    }
   ],
   "source": [
    "df.head()"
   ]
  },
  {
   "cell_type": "markdown",
   "metadata": {},
   "source": [
    "#### Creating The Selling Price Variable \n",
    "\n",
    "###### Selling Price = (CostPrice*Quantity) - (DiscountPercent*CostPrice*Quantity) + Profit"
   ]
  },
  {
   "cell_type": "code",
   "execution_count": 14,
   "metadata": {},
   "outputs": [],
   "source": [
    "df['Selling Price'] = (df['cost price']*df['quantity']) - (df['discount percent']*(df['cost price']*df['quantity'])) + df['profit']"
   ]
  },
  {
   "cell_type": "code",
   "execution_count": 15,
   "metadata": {},
   "outputs": [
    {
     "data": {
      "text/html": [
       "<div>\n",
       "<style scoped>\n",
       "    .dataframe tbody tr th:only-of-type {\n",
       "        vertical-align: middle;\n",
       "    }\n",
       "\n",
       "    .dataframe tbody tr th {\n",
       "        vertical-align: top;\n",
       "    }\n",
       "\n",
       "    .dataframe thead th {\n",
       "        text-align: right;\n",
       "    }\n",
       "</style>\n",
       "<table border=\"1\" class=\"dataframe\">\n",
       "  <thead>\n",
       "    <tr style=\"text-align: right;\">\n",
       "      <th></th>\n",
       "      <th>ship_mode</th>\n",
       "      <th>segment</th>\n",
       "      <th>market</th>\n",
       "      <th>region</th>\n",
       "      <th>category</th>\n",
       "      <th>order_priority</th>\n",
       "      <th>cost price</th>\n",
       "      <th>quantity</th>\n",
       "      <th>discount percent</th>\n",
       "      <th>profit</th>\n",
       "      <th>shipping_cost</th>\n",
       "      <th>Days to Ship</th>\n",
       "      <th>Selling Price</th>\n",
       "    </tr>\n",
       "  </thead>\n",
       "  <tbody>\n",
       "    <tr>\n",
       "      <th>0</th>\n",
       "      <td>Standard Class</td>\n",
       "      <td>Consumer</td>\n",
       "      <td>Africa</td>\n",
       "      <td>Africa</td>\n",
       "      <td>Office Supplies</td>\n",
       "      <td>Medium</td>\n",
       "      <td>408.300</td>\n",
       "      <td>2</td>\n",
       "      <td>0.0</td>\n",
       "      <td>106.140</td>\n",
       "      <td>35.46</td>\n",
       "      <td>5</td>\n",
       "      <td>922.7400</td>\n",
       "    </tr>\n",
       "    <tr>\n",
       "      <th>1</th>\n",
       "      <td>Standard Class</td>\n",
       "      <td>Consumer</td>\n",
       "      <td>APAC</td>\n",
       "      <td>Oceania</td>\n",
       "      <td>Office Supplies</td>\n",
       "      <td>Medium</td>\n",
       "      <td>120.366</td>\n",
       "      <td>3</td>\n",
       "      <td>0.1</td>\n",
       "      <td>36.036</td>\n",
       "      <td>9.72</td>\n",
       "      <td>7</td>\n",
       "      <td>361.0242</td>\n",
       "    </tr>\n",
       "    <tr>\n",
       "      <th>2</th>\n",
       "      <td>Second Class</td>\n",
       "      <td>Consumer</td>\n",
       "      <td>EMEA</td>\n",
       "      <td>EMEA</td>\n",
       "      <td>Office Supplies</td>\n",
       "      <td>High</td>\n",
       "      <td>66.120</td>\n",
       "      <td>4</td>\n",
       "      <td>0.0</td>\n",
       "      <td>29.640</td>\n",
       "      <td>8.17</td>\n",
       "      <td>4</td>\n",
       "      <td>294.1200</td>\n",
       "    </tr>\n",
       "    <tr>\n",
       "      <th>3</th>\n",
       "      <td>Second Class</td>\n",
       "      <td>Home Office</td>\n",
       "      <td>EU</td>\n",
       "      <td>North</td>\n",
       "      <td>Office Supplies</td>\n",
       "      <td>High</td>\n",
       "      <td>44.865</td>\n",
       "      <td>3</td>\n",
       "      <td>0.5</td>\n",
       "      <td>-26.055</td>\n",
       "      <td>4.82</td>\n",
       "      <td>4</td>\n",
       "      <td>41.2425</td>\n",
       "    </tr>\n",
       "    <tr>\n",
       "      <th>4</th>\n",
       "      <td>Standard Class</td>\n",
       "      <td>Consumer</td>\n",
       "      <td>APAC</td>\n",
       "      <td>Oceania</td>\n",
       "      <td>Furniture</td>\n",
       "      <td>Medium</td>\n",
       "      <td>113.670</td>\n",
       "      <td>5</td>\n",
       "      <td>0.1</td>\n",
       "      <td>37.770</td>\n",
       "      <td>4.70</td>\n",
       "      <td>7</td>\n",
       "      <td>549.2850</td>\n",
       "    </tr>\n",
       "  </tbody>\n",
       "</table>\n",
       "</div>"
      ],
      "text/plain": [
       "        ship_mode      segment  market   region         category  \\\n",
       "0  Standard Class     Consumer  Africa   Africa  Office Supplies   \n",
       "1  Standard Class     Consumer    APAC  Oceania  Office Supplies   \n",
       "2    Second Class     Consumer    EMEA     EMEA  Office Supplies   \n",
       "3    Second Class  Home Office      EU    North  Office Supplies   \n",
       "4  Standard Class     Consumer    APAC  Oceania        Furniture   \n",
       "\n",
       "  order_priority  cost price  quantity  discount percent   profit  \\\n",
       "0         Medium     408.300         2               0.0  106.140   \n",
       "1         Medium     120.366         3               0.1   36.036   \n",
       "2           High      66.120         4               0.0   29.640   \n",
       "3           High      44.865         3               0.5  -26.055   \n",
       "4         Medium     113.670         5               0.1   37.770   \n",
       "\n",
       "   shipping_cost  Days to Ship  Selling Price  \n",
       "0          35.46             5       922.7400  \n",
       "1           9.72             7       361.0242  \n",
       "2           8.17             4       294.1200  \n",
       "3           4.82             4        41.2425  \n",
       "4           4.70             7       549.2850  "
      ]
     },
     "execution_count": 15,
     "metadata": {},
     "output_type": "execute_result"
    }
   ],
   "source": [
    "df.head()"
   ]
  },
  {
   "cell_type": "markdown",
   "metadata": {},
   "source": [
    "#### Converting Numerical Selling Price into Two Classes (Highly/Least Contributing) Using Median Value"
   ]
  },
  {
   "cell_type": "code",
   "execution_count": 16,
   "metadata": {},
   "outputs": [
    {
     "data": {
      "text/plain": [
       "count     51290.000000\n",
       "mean       1104.996539\n",
       "std        3264.225602\n",
       "min       -1591.459200\n",
       "25%          53.797450\n",
       "50%         216.600000\n",
       "75%         814.298400\n",
       "max      133551.990000\n",
       "Name: Selling Price, dtype: float64"
      ]
     },
     "execution_count": 16,
     "metadata": {},
     "output_type": "execute_result"
    }
   ],
   "source": [
    "df['Selling Price'].describe()"
   ]
  },
  {
   "cell_type": "code",
   "execution_count": 17,
   "metadata": {},
   "outputs": [],
   "source": [
    "one_ = df['Selling Price'].describe()['75%']\n",
    "two_ = df['Selling Price'].describe()['50%']\n",
    "three_ = df['Selling Price'].describe()['25%']\n",
    "\n",
    "\n",
    "def num_to_cat(i):\n",
    "    \n",
    "    if i>=one_:\n",
    "        return 1 # Highly Contributing\n",
    "    elif i<one_ and i>=two_:\n",
    "        return 2 # Above Average Contributing\n",
    "    elif i<two_ and i>=three_:\n",
    "        return 3 # Below Average Contributing\n",
    "    else:\n",
    "        return 4 # Least Contributing\n"
   ]
  },
  {
   "cell_type": "code",
   "execution_count": 18,
   "metadata": {},
   "outputs": [],
   "source": [
    "df['Classes'] = df['Selling Price'].apply(num_to_cat)"
   ]
  },
  {
   "cell_type": "code",
   "execution_count": 19,
   "metadata": {},
   "outputs": [
    {
     "data": {
      "text/html": [
       "<div>\n",
       "<style scoped>\n",
       "    .dataframe tbody tr th:only-of-type {\n",
       "        vertical-align: middle;\n",
       "    }\n",
       "\n",
       "    .dataframe tbody tr th {\n",
       "        vertical-align: top;\n",
       "    }\n",
       "\n",
       "    .dataframe thead th {\n",
       "        text-align: right;\n",
       "    }\n",
       "</style>\n",
       "<table border=\"1\" class=\"dataframe\">\n",
       "  <thead>\n",
       "    <tr style=\"text-align: right;\">\n",
       "      <th></th>\n",
       "      <th>ship_mode</th>\n",
       "      <th>segment</th>\n",
       "      <th>market</th>\n",
       "      <th>region</th>\n",
       "      <th>category</th>\n",
       "      <th>order_priority</th>\n",
       "      <th>cost price</th>\n",
       "      <th>quantity</th>\n",
       "      <th>discount percent</th>\n",
       "      <th>profit</th>\n",
       "      <th>shipping_cost</th>\n",
       "      <th>Days to Ship</th>\n",
       "      <th>Selling Price</th>\n",
       "      <th>Classes</th>\n",
       "    </tr>\n",
       "  </thead>\n",
       "  <tbody>\n",
       "    <tr>\n",
       "      <th>0</th>\n",
       "      <td>Standard Class</td>\n",
       "      <td>Consumer</td>\n",
       "      <td>Africa</td>\n",
       "      <td>Africa</td>\n",
       "      <td>Office Supplies</td>\n",
       "      <td>Medium</td>\n",
       "      <td>408.300</td>\n",
       "      <td>2</td>\n",
       "      <td>0.0</td>\n",
       "      <td>106.140</td>\n",
       "      <td>35.46</td>\n",
       "      <td>5</td>\n",
       "      <td>922.7400</td>\n",
       "      <td>1</td>\n",
       "    </tr>\n",
       "    <tr>\n",
       "      <th>1</th>\n",
       "      <td>Standard Class</td>\n",
       "      <td>Consumer</td>\n",
       "      <td>APAC</td>\n",
       "      <td>Oceania</td>\n",
       "      <td>Office Supplies</td>\n",
       "      <td>Medium</td>\n",
       "      <td>120.366</td>\n",
       "      <td>3</td>\n",
       "      <td>0.1</td>\n",
       "      <td>36.036</td>\n",
       "      <td>9.72</td>\n",
       "      <td>7</td>\n",
       "      <td>361.0242</td>\n",
       "      <td>2</td>\n",
       "    </tr>\n",
       "    <tr>\n",
       "      <th>2</th>\n",
       "      <td>Second Class</td>\n",
       "      <td>Consumer</td>\n",
       "      <td>EMEA</td>\n",
       "      <td>EMEA</td>\n",
       "      <td>Office Supplies</td>\n",
       "      <td>High</td>\n",
       "      <td>66.120</td>\n",
       "      <td>4</td>\n",
       "      <td>0.0</td>\n",
       "      <td>29.640</td>\n",
       "      <td>8.17</td>\n",
       "      <td>4</td>\n",
       "      <td>294.1200</td>\n",
       "      <td>2</td>\n",
       "    </tr>\n",
       "    <tr>\n",
       "      <th>3</th>\n",
       "      <td>Second Class</td>\n",
       "      <td>Home Office</td>\n",
       "      <td>EU</td>\n",
       "      <td>North</td>\n",
       "      <td>Office Supplies</td>\n",
       "      <td>High</td>\n",
       "      <td>44.865</td>\n",
       "      <td>3</td>\n",
       "      <td>0.5</td>\n",
       "      <td>-26.055</td>\n",
       "      <td>4.82</td>\n",
       "      <td>4</td>\n",
       "      <td>41.2425</td>\n",
       "      <td>4</td>\n",
       "    </tr>\n",
       "    <tr>\n",
       "      <th>4</th>\n",
       "      <td>Standard Class</td>\n",
       "      <td>Consumer</td>\n",
       "      <td>APAC</td>\n",
       "      <td>Oceania</td>\n",
       "      <td>Furniture</td>\n",
       "      <td>Medium</td>\n",
       "      <td>113.670</td>\n",
       "      <td>5</td>\n",
       "      <td>0.1</td>\n",
       "      <td>37.770</td>\n",
       "      <td>4.70</td>\n",
       "      <td>7</td>\n",
       "      <td>549.2850</td>\n",
       "      <td>2</td>\n",
       "    </tr>\n",
       "  </tbody>\n",
       "</table>\n",
       "</div>"
      ],
      "text/plain": [
       "        ship_mode      segment  market   region         category  \\\n",
       "0  Standard Class     Consumer  Africa   Africa  Office Supplies   \n",
       "1  Standard Class     Consumer    APAC  Oceania  Office Supplies   \n",
       "2    Second Class     Consumer    EMEA     EMEA  Office Supplies   \n",
       "3    Second Class  Home Office      EU    North  Office Supplies   \n",
       "4  Standard Class     Consumer    APAC  Oceania        Furniture   \n",
       "\n",
       "  order_priority  cost price  quantity  discount percent   profit  \\\n",
       "0         Medium     408.300         2               0.0  106.140   \n",
       "1         Medium     120.366         3               0.1   36.036   \n",
       "2           High      66.120         4               0.0   29.640   \n",
       "3           High      44.865         3               0.5  -26.055   \n",
       "4         Medium     113.670         5               0.1   37.770   \n",
       "\n",
       "   shipping_cost  Days to Ship  Selling Price  Classes  \n",
       "0          35.46             5       922.7400        1  \n",
       "1           9.72             7       361.0242        2  \n",
       "2           8.17             4       294.1200        2  \n",
       "3           4.82             4        41.2425        4  \n",
       "4           4.70             7       549.2850        2  "
      ]
     },
     "execution_count": 19,
     "metadata": {},
     "output_type": "execute_result"
    }
   ],
   "source": [
    "df.head()"
   ]
  },
  {
   "cell_type": "markdown",
   "metadata": {},
   "source": [
    "#### Now we can Drop the Selling Price Column."
   ]
  },
  {
   "cell_type": "code",
   "execution_count": 20,
   "metadata": {},
   "outputs": [],
   "source": [
    "df.drop('Selling Price',axis=1,inplace=True)"
   ]
  },
  {
   "cell_type": "code",
   "execution_count": 21,
   "metadata": {},
   "outputs": [
    {
     "data": {
      "text/html": [
       "<div>\n",
       "<style scoped>\n",
       "    .dataframe tbody tr th:only-of-type {\n",
       "        vertical-align: middle;\n",
       "    }\n",
       "\n",
       "    .dataframe tbody tr th {\n",
       "        vertical-align: top;\n",
       "    }\n",
       "\n",
       "    .dataframe thead th {\n",
       "        text-align: right;\n",
       "    }\n",
       "</style>\n",
       "<table border=\"1\" class=\"dataframe\">\n",
       "  <thead>\n",
       "    <tr style=\"text-align: right;\">\n",
       "      <th></th>\n",
       "      <th>ship_mode</th>\n",
       "      <th>segment</th>\n",
       "      <th>market</th>\n",
       "      <th>region</th>\n",
       "      <th>category</th>\n",
       "      <th>order_priority</th>\n",
       "      <th>cost price</th>\n",
       "      <th>quantity</th>\n",
       "      <th>discount percent</th>\n",
       "      <th>profit</th>\n",
       "      <th>shipping_cost</th>\n",
       "      <th>Days to Ship</th>\n",
       "      <th>Classes</th>\n",
       "    </tr>\n",
       "  </thead>\n",
       "  <tbody>\n",
       "    <tr>\n",
       "      <th>0</th>\n",
       "      <td>Standard Class</td>\n",
       "      <td>Consumer</td>\n",
       "      <td>Africa</td>\n",
       "      <td>Africa</td>\n",
       "      <td>Office Supplies</td>\n",
       "      <td>Medium</td>\n",
       "      <td>408.300</td>\n",
       "      <td>2</td>\n",
       "      <td>0.0</td>\n",
       "      <td>106.140</td>\n",
       "      <td>35.46</td>\n",
       "      <td>5</td>\n",
       "      <td>1</td>\n",
       "    </tr>\n",
       "    <tr>\n",
       "      <th>1</th>\n",
       "      <td>Standard Class</td>\n",
       "      <td>Consumer</td>\n",
       "      <td>APAC</td>\n",
       "      <td>Oceania</td>\n",
       "      <td>Office Supplies</td>\n",
       "      <td>Medium</td>\n",
       "      <td>120.366</td>\n",
       "      <td>3</td>\n",
       "      <td>0.1</td>\n",
       "      <td>36.036</td>\n",
       "      <td>9.72</td>\n",
       "      <td>7</td>\n",
       "      <td>2</td>\n",
       "    </tr>\n",
       "    <tr>\n",
       "      <th>2</th>\n",
       "      <td>Second Class</td>\n",
       "      <td>Consumer</td>\n",
       "      <td>EMEA</td>\n",
       "      <td>EMEA</td>\n",
       "      <td>Office Supplies</td>\n",
       "      <td>High</td>\n",
       "      <td>66.120</td>\n",
       "      <td>4</td>\n",
       "      <td>0.0</td>\n",
       "      <td>29.640</td>\n",
       "      <td>8.17</td>\n",
       "      <td>4</td>\n",
       "      <td>2</td>\n",
       "    </tr>\n",
       "    <tr>\n",
       "      <th>3</th>\n",
       "      <td>Second Class</td>\n",
       "      <td>Home Office</td>\n",
       "      <td>EU</td>\n",
       "      <td>North</td>\n",
       "      <td>Office Supplies</td>\n",
       "      <td>High</td>\n",
       "      <td>44.865</td>\n",
       "      <td>3</td>\n",
       "      <td>0.5</td>\n",
       "      <td>-26.055</td>\n",
       "      <td>4.82</td>\n",
       "      <td>4</td>\n",
       "      <td>4</td>\n",
       "    </tr>\n",
       "    <tr>\n",
       "      <th>4</th>\n",
       "      <td>Standard Class</td>\n",
       "      <td>Consumer</td>\n",
       "      <td>APAC</td>\n",
       "      <td>Oceania</td>\n",
       "      <td>Furniture</td>\n",
       "      <td>Medium</td>\n",
       "      <td>113.670</td>\n",
       "      <td>5</td>\n",
       "      <td>0.1</td>\n",
       "      <td>37.770</td>\n",
       "      <td>4.70</td>\n",
       "      <td>7</td>\n",
       "      <td>2</td>\n",
       "    </tr>\n",
       "  </tbody>\n",
       "</table>\n",
       "</div>"
      ],
      "text/plain": [
       "        ship_mode      segment  market   region         category  \\\n",
       "0  Standard Class     Consumer  Africa   Africa  Office Supplies   \n",
       "1  Standard Class     Consumer    APAC  Oceania  Office Supplies   \n",
       "2    Second Class     Consumer    EMEA     EMEA  Office Supplies   \n",
       "3    Second Class  Home Office      EU    North  Office Supplies   \n",
       "4  Standard Class     Consumer    APAC  Oceania        Furniture   \n",
       "\n",
       "  order_priority  cost price  quantity  discount percent   profit  \\\n",
       "0         Medium     408.300         2               0.0  106.140   \n",
       "1         Medium     120.366         3               0.1   36.036   \n",
       "2           High      66.120         4               0.0   29.640   \n",
       "3           High      44.865         3               0.5  -26.055   \n",
       "4         Medium     113.670         5               0.1   37.770   \n",
       "\n",
       "   shipping_cost  Days to Ship  Classes  \n",
       "0          35.46             5        1  \n",
       "1           9.72             7        2  \n",
       "2           8.17             4        2  \n",
       "3           4.82             4        4  \n",
       "4           4.70             7        2  "
      ]
     },
     "execution_count": 21,
     "metadata": {},
     "output_type": "execute_result"
    }
   ],
   "source": [
    "df.head()"
   ]
  },
  {
   "cell_type": "markdown",
   "metadata": {},
   "source": [
    "### Now the DataSet is Ready For EDA"
   ]
  },
  {
   "cell_type": "markdown",
   "metadata": {},
   "source": [
    "## Exploratory Data Analysis"
   ]
  },
  {
   "cell_type": "code",
   "execution_count": 22,
   "metadata": {},
   "outputs": [
    {
     "name": "stdout",
     "output_type": "stream",
     "text": [
      "<class 'pandas.core.frame.DataFrame'>\n",
      "RangeIndex: 51290 entries, 0 to 51289\n",
      "Data columns (total 13 columns):\n",
      " #   Column            Non-Null Count  Dtype  \n",
      "---  ------            --------------  -----  \n",
      " 0   ship_mode         51290 non-null  object \n",
      " 1   segment           51290 non-null  object \n",
      " 2   market            51290 non-null  object \n",
      " 3   region            51290 non-null  object \n",
      " 4   category          51290 non-null  object \n",
      " 5   order_priority    51290 non-null  object \n",
      " 6   cost price        51290 non-null  float64\n",
      " 7   quantity          51290 non-null  int64  \n",
      " 8   discount percent  51290 non-null  float64\n",
      " 9   profit            51290 non-null  float64\n",
      " 10  shipping_cost     51290 non-null  float64\n",
      " 11  Days to Ship      51290 non-null  int64  \n",
      " 12  Classes           51290 non-null  int64  \n",
      "dtypes: float64(4), int64(3), object(6)\n",
      "memory usage: 5.1+ MB\n"
     ]
    }
   ],
   "source": [
    "df.info()"
   ]
  },
  {
   "cell_type": "markdown",
   "metadata": {},
   "source": [
    "### Ship_mode"
   ]
  },
  {
   "cell_type": "code",
   "execution_count": 23,
   "metadata": {},
   "outputs": [
    {
     "data": {
      "image/png": "[encoded data removed]",
      "text/plain": [
       "<Figure size 432x288 with 1 Axes>"
      ]
     },
     "metadata": {
      "needs_background": "light"
     },
     "output_type": "display_data"
    }
   ],
   "source": [
    "sns.countplot(df['ship_mode'])\n",
    "plt.show()"
   ]
  },
  {
   "cell_type": "markdown",
   "metadata": {},
   "source": [
    "##### More number of Customers are ordering the Products Through Standard Class"
   ]
  },
  {
   "cell_type": "markdown",
   "metadata": {},
   "source": [
    "### Ship_mode Vs Classes"
   ]
  },
  {
   "cell_type": "code",
   "execution_count": 24,
   "metadata": {},
   "outputs": [
    {
     "data": {
      "image/png": "[encoded data removed]",
      "text/plain": [
       "<Figure size 432x288 with 1 Axes>"
      ]
     },
     "metadata": {
      "needs_background": "light"
     },
     "output_type": "display_data"
    }
   ],
   "source": [
    "sns.countplot(df['ship_mode'],hue=df['Classes'])\n",
    "plt.show()"
   ]
  },
  {
   "cell_type": "markdown",
   "metadata": {},
   "source": [
    "##### This shows that, in all the shipment modes, the highly contributing people are almost equal to the Least Contributing People."
   ]
  },
  {
   "cell_type": "markdown",
   "metadata": {},
   "source": [
    "### Ship_mode Vs Segment"
   ]
  },
  {
   "cell_type": "code",
   "execution_count": 25,
   "metadata": {},
   "outputs": [
    {
     "data": {
      "image/png": "[encoded data removed]",
      "text/plain": [
       "<Figure size 432x288 with 1 Axes>"
      ]
     },
     "metadata": {
      "needs_background": "light"
     },
     "output_type": "display_data"
    }
   ],
   "source": [
    "sns.countplot(df['ship_mode'],hue=df['segment'])\n",
    "plt.show()"
   ]
  },
  {
   "cell_type": "markdown",
   "metadata": {},
   "source": [
    "##### More Consumer Type Customers are ordering the Products in the Standard Class.\n",
    "##### Least Number of Customers in Home Office Segment Ordering the Same Day Mode."
   ]
  },
  {
   "cell_type": "markdown",
   "metadata": {},
   "source": [
    "### Segment"
   ]
  },
  {
   "cell_type": "code",
   "execution_count": 26,
   "metadata": {},
   "outputs": [
    {
     "data": {
      "image/png": "[encoded data removed]",
      "text/plain": [
       "<Figure size 432x288 with 1 Axes>"
      ]
     },
     "metadata": {
      "needs_background": "light"
     },
     "output_type": "display_data"
    }
   ],
   "source": [
    "sns.countplot(df['segment'])\n",
    "plt.show()"
   ]
  },
  {
   "cell_type": "markdown",
   "metadata": {},
   "source": [
    "##### More number of Customers are from Consumer Segment and the less number of customers are from Home Office Segment"
   ]
  },
  {
   "cell_type": "markdown",
   "metadata": {},
   "source": [
    "### Segment Vs Classes"
   ]
  },
  {
   "cell_type": "code",
   "execution_count": 27,
   "metadata": {},
   "outputs": [
    {
     "data": {
      "image/png": "[encoded data removed]",
      "text/plain": [
       "<Figure size 432x288 with 1 Axes>"
      ]
     },
     "metadata": {
      "needs_background": "light"
     },
     "output_type": "display_data"
    }
   ],
   "source": [
    "sns.countplot(df['segment'],hue=df['Classes'])\n",
    "plt.show()"
   ]
  },
  {
   "cell_type": "markdown",
   "metadata": {},
   "source": [
    "##### From the Above graph, all the Classes are almost equal in number for each segment"
   ]
  },
  {
   "cell_type": "markdown",
   "metadata": {},
   "source": [
    "### Segment Vs Market"
   ]
  },
  {
   "cell_type": "code",
   "execution_count": 28,
   "metadata": {},
   "outputs": [
    {
     "data": {
      "image/png": "[encoded data removed]",
      "text/plain": [
       "<Figure size 1008x432 with 1 Axes>"
      ]
     },
     "metadata": {
      "needs_background": "light"
     },
     "output_type": "display_data"
    }
   ],
   "source": [
    "plt.figure(figsize=(14,6))\n",
    "sns.countplot(df['segment'],hue=df['market'])\n",
    "plt.show()"
   ]
  },
  {
   "cell_type": "markdown",
   "metadata": {},
   "source": [
    "##### More number of Customers are from Consumer Segment bought products from APAC Market\n",
    "##### Least number of Customers are from Home Office Segment bought products from Canada Market"
   ]
  },
  {
   "cell_type": "markdown",
   "metadata": {},
   "source": [
    "### Segment Vs Category"
   ]
  },
  {
   "cell_type": "code",
   "execution_count": 29,
   "metadata": {},
   "outputs": [
    {
     "data": {
      "image/png": "[encoded data removed]",
      "text/plain": [
       "<Figure size 720x432 with 1 Axes>"
      ]
     },
     "metadata": {
      "needs_background": "light"
     },
     "output_type": "display_data"
    }
   ],
   "source": [
    "plt.figure(figsize=(10,6))\n",
    "sns.countplot(df['segment'],hue=df['category'])\n",
    "plt.show()"
   ]
  },
  {
   "cell_type": "markdown",
   "metadata": {},
   "source": [
    "##### More number of Customers from Consumer segment bought Office Supplies Category Products"
   ]
  },
  {
   "cell_type": "markdown",
   "metadata": {},
   "source": [
    "### Segment Vs Cost Price"
   ]
  },
  {
   "cell_type": "code",
   "execution_count": 30,
   "metadata": {},
   "outputs": [
    {
     "data": {
      "image/png": "[encoded data removed]",
      "text/plain": [
       "<Figure size 432x288 with 1 Axes>"
      ]
     },
     "metadata": {
      "needs_background": "light"
     },
     "output_type": "display_data"
    }
   ],
   "source": [
    "sns.stripplot(x=df['segment'],y=df['cost price'])\n",
    "plt.show()"
   ]
  },
  {
   "cell_type": "markdown",
   "metadata": {},
   "source": [
    "##### Highest Cost price for a product is bought by a customer who belongs to Home Office Segment"
   ]
  },
  {
   "cell_type": "markdown",
   "metadata": {},
   "source": [
    "### Segment Vs Profit"
   ]
  },
  {
   "cell_type": "code",
   "execution_count": 31,
   "metadata": {},
   "outputs": [
    {
     "data": {
      "image/png": "[encoded data removed]",
      "text/plain": [
       "<Figure size 432x288 with 1 Axes>"
      ]
     },
     "metadata": {
      "needs_background": "light"
     },
     "output_type": "display_data"
    }
   ],
   "source": [
    "sns.stripplot(x=df['segment'],y=df['profit'])\n",
    "plt.show()"
   ]
  },
  {
   "cell_type": "markdown",
   "metadata": {},
   "source": [
    "##### A Product With High Loss belongs to Consumer Segment where a product with High Profit belongs to Corporate Segment"
   ]
  },
  {
   "cell_type": "markdown",
   "metadata": {},
   "source": [
    "### Market"
   ]
  },
  {
   "cell_type": "code",
   "execution_count": 32,
   "metadata": {},
   "outputs": [
    {
     "data": {
      "image/png": "[encoded data removed]",
      "text/plain": [
       "<Figure size 432x288 with 1 Axes>"
      ]
     },
     "metadata": {
      "needs_background": "light"
     },
     "output_type": "display_data"
    }
   ],
   "source": [
    "sns.countplot(df['market'])\n",
    "plt.show()"
   ]
  },
  {
   "cell_type": "markdown",
   "metadata": {},
   "source": [
    "##### This tells that, There are very less people purchasing products from the Canada Market.\n",
    "\n",
    "##### More number of customers are purchasing products which belong to APAC Market."
   ]
  },
  {
   "cell_type": "markdown",
   "metadata": {},
   "source": [
    "### Market Vs Classes"
   ]
  },
  {
   "cell_type": "code",
   "execution_count": 33,
   "metadata": {},
   "outputs": [
    {
     "data": {
      "image/png": "[encoded data removed]",
      "text/plain": [
       "<Figure size 432x288 with 1 Axes>"
      ]
     },
     "metadata": {
      "needs_background": "light"
     },
     "output_type": "display_data"
    }
   ],
   "source": [
    "sns.countplot(df['market'],hue=df['Classes'])\n",
    "plt.show()"
   ]
  },
  {
   "cell_type": "markdown",
   "metadata": {},
   "source": [
    "##### More Products are from APAC Market and Highest Number of Highly Contributing People are purchasing Products from APAC Market\n",
    "\n",
    "##### Highest Number of Least Contributing People are purchasing Products from US Market."
   ]
  },
  {
   "cell_type": "markdown",
   "metadata": {},
   "source": [
    "### Market Vs Category"
   ]
  },
  {
   "cell_type": "code",
   "execution_count": 34,
   "metadata": {},
   "outputs": [
    {
     "data": {
      "image/png": "[encoded data removed]",
      "text/plain": [
       "<Figure size 1008x432 with 1 Axes>"
      ]
     },
     "metadata": {
      "needs_background": "light"
     },
     "output_type": "display_data"
    }
   ],
   "source": [
    "plt.figure(figsize=(14,6))\n",
    "sns.countplot(df['market'],hue=df['category'])\n",
    "plt.show()"
   ]
  },
  {
   "cell_type": "markdown",
   "metadata": {},
   "source": [
    "##### Large Number of Office Supplies are from EU Market\n",
    "##### All Category products are very Less in Canada Market."
   ]
  },
  {
   "cell_type": "markdown",
   "metadata": {},
   "source": [
    "### Market Vs Order Priority"
   ]
  },
  {
   "cell_type": "code",
   "execution_count": 35,
   "metadata": {},
   "outputs": [
    {
     "data": {
      "image/png": "[encoded data removed]",
      "text/plain": [
       "<Figure size 1008x432 with 1 Axes>"
      ]
     },
     "metadata": {
      "needs_background": "light"
     },
     "output_type": "display_data"
    }
   ],
   "source": [
    "plt.figure(figsize=(14,6))\n",
    "sns.countplot(df['market'],hue=df['order_priority'])\n",
    "plt.show()"
   ]
  },
  {
   "cell_type": "markdown",
   "metadata": {},
   "source": [
    "##### From all the markets, More number of Customers are giving Medium Order Priority.\n",
    "##### And, Less number of Customers are giving Low Priority through all the markets."
   ]
  },
  {
   "cell_type": "markdown",
   "metadata": {},
   "source": [
    "### Market Vs Cost Price"
   ]
  },
  {
   "cell_type": "code",
   "execution_count": 36,
   "metadata": {},
   "outputs": [
    {
     "data": {
      "image/png": "[encoded data removed]",
      "text/plain": [
       "<Figure size 432x288 with 1 Axes>"
      ]
     },
     "metadata": {
      "needs_background": "light"
     },
     "output_type": "display_data"
    }
   ],
   "source": [
    "sns.stripplot(x=df['market'],y=df['cost price'])\n",
    "plt.show()"
   ]
  },
  {
   "cell_type": "markdown",
   "metadata": {},
   "source": [
    "##### The products from US Market has high Cost Price."
   ]
  },
  {
   "cell_type": "code",
   "execution_count": 37,
   "metadata": {},
   "outputs": [
    {
     "data": {
      "text/html": [
       "<div>\n",
       "<style scoped>\n",
       "    .dataframe tbody tr th:only-of-type {\n",
       "        vertical-align: middle;\n",
       "    }\n",
       "\n",
       "    .dataframe tbody tr th {\n",
       "        vertical-align: top;\n",
       "    }\n",
       "\n",
       "    .dataframe thead th {\n",
       "        text-align: right;\n",
       "    }\n",
       "</style>\n",
       "<table border=\"1\" class=\"dataframe\">\n",
       "  <thead>\n",
       "    <tr style=\"text-align: right;\">\n",
       "      <th></th>\n",
       "      <th>market</th>\n",
       "      <th>cost price</th>\n",
       "    </tr>\n",
       "  </thead>\n",
       "  <tbody>\n",
       "    <tr>\n",
       "      <th>0</th>\n",
       "      <td>APAC</td>\n",
       "      <td>325.917481</td>\n",
       "    </tr>\n",
       "    <tr>\n",
       "      <th>1</th>\n",
       "      <td>Africa</td>\n",
       "      <td>170.868370</td>\n",
       "    </tr>\n",
       "    <tr>\n",
       "      <th>2</th>\n",
       "      <td>Canada</td>\n",
       "      <td>174.292109</td>\n",
       "    </tr>\n",
       "    <tr>\n",
       "      <th>3</th>\n",
       "      <td>EMEA</td>\n",
       "      <td>160.302508</td>\n",
       "    </tr>\n",
       "    <tr>\n",
       "      <th>4</th>\n",
       "      <td>EU</td>\n",
       "      <td>293.808906</td>\n",
       "    </tr>\n",
       "    <tr>\n",
       "      <th>5</th>\n",
       "      <td>LATAM</td>\n",
       "      <td>210.278334</td>\n",
       "    </tr>\n",
       "    <tr>\n",
       "      <th>6</th>\n",
       "      <td>US</td>\n",
       "      <td>229.858001</td>\n",
       "    </tr>\n",
       "  </tbody>\n",
       "</table>\n",
       "</div>"
      ],
      "text/plain": [
       "   market  cost price\n",
       "0    APAC  325.917481\n",
       "1  Africa  170.868370\n",
       "2  Canada  174.292109\n",
       "3    EMEA  160.302508\n",
       "4      EU  293.808906\n",
       "5   LATAM  210.278334\n",
       "6      US  229.858001"
      ]
     },
     "execution_count": 37,
     "metadata": {},
     "output_type": "execute_result"
    }
   ],
   "source": [
    "market_vs_costprice = df.groupby('market').mean()['cost price'].reset_index()\n",
    "market_vs_costprice"
   ]
  },
  {
   "cell_type": "code",
   "execution_count": 38,
   "metadata": {},
   "outputs": [
    {
     "data": {
      "image/png": "[encoded data removed]",
      "text/plain": [
       "<Figure size 432x288 with 1 Axes>"
      ]
     },
     "metadata": {
      "needs_background": "light"
     },
     "output_type": "display_data"
    }
   ],
   "source": [
    "sns.barplot(market_vs_costprice['market'],market_vs_costprice['cost price'])\n",
    "plt.show()"
   ]
  },
  {
   "cell_type": "markdown",
   "metadata": {},
   "source": [
    "##### The mean Cost Price is High for APAC Market, that is, The mean cost price is high for the products that belong to APAC Market\n",
    "##### The mean cost price is low for the products that belong to EMEA Market"
   ]
  },
  {
   "cell_type": "markdown",
   "metadata": {},
   "source": [
    "### Market Vs Profit"
   ]
  },
  {
   "cell_type": "code",
   "execution_count": 39,
   "metadata": {},
   "outputs": [
    {
     "data": {
      "image/png": "[encoded data removed]",
      "text/plain": [
       "<Figure size 432x288 with 1 Axes>"
      ]
     },
     "metadata": {
      "needs_background": "light"
     },
     "output_type": "display_data"
    }
   ],
   "source": [
    "sns.stripplot(x=df['market'],y=df['profit'])\n",
    "plt.show()"
   ]
  },
  {
   "cell_type": "markdown",
   "metadata": {},
   "source": [
    "##### There are some products in the US Market, due to which there is high loss and high profit for the Business."
   ]
  },
  {
   "cell_type": "code",
   "execution_count": 40,
   "metadata": {},
   "outputs": [
    {
     "data": {
      "text/html": [
       "<div>\n",
       "<style scoped>\n",
       "    .dataframe tbody tr th:only-of-type {\n",
       "        vertical-align: middle;\n",
       "    }\n",
       "\n",
       "    .dataframe tbody tr th {\n",
       "        vertical-align: top;\n",
       "    }\n",
       "\n",
       "    .dataframe thead th {\n",
       "        text-align: right;\n",
       "    }\n",
       "</style>\n",
       "<table border=\"1\" class=\"dataframe\">\n",
       "  <thead>\n",
       "    <tr style=\"text-align: right;\">\n",
       "      <th></th>\n",
       "      <th>market</th>\n",
       "      <th>profit</th>\n",
       "    </tr>\n",
       "  </thead>\n",
       "  <tbody>\n",
       "    <tr>\n",
       "      <th>0</th>\n",
       "      <td>APAC</td>\n",
       "      <td>39.772549</td>\n",
       "    </tr>\n",
       "    <tr>\n",
       "      <th>1</th>\n",
       "      <td>Africa</td>\n",
       "      <td>19.374674</td>\n",
       "    </tr>\n",
       "    <tr>\n",
       "      <th>2</th>\n",
       "      <td>Canada</td>\n",
       "      <td>46.399453</td>\n",
       "    </tr>\n",
       "    <tr>\n",
       "      <th>3</th>\n",
       "      <td>EMEA</td>\n",
       "      <td>8.728966</td>\n",
       "    </tr>\n",
       "    <tr>\n",
       "      <th>4</th>\n",
       "      <td>EU</td>\n",
       "      <td>37.282974</td>\n",
       "    </tr>\n",
       "    <tr>\n",
       "      <th>5</th>\n",
       "      <td>LATAM</td>\n",
       "      <td>21.531328</td>\n",
       "    </tr>\n",
       "    <tr>\n",
       "      <th>6</th>\n",
       "      <td>US</td>\n",
       "      <td>28.656896</td>\n",
       "    </tr>\n",
       "  </tbody>\n",
       "</table>\n",
       "</div>"
      ],
      "text/plain": [
       "   market     profit\n",
       "0    APAC  39.772549\n",
       "1  Africa  19.374674\n",
       "2  Canada  46.399453\n",
       "3    EMEA   8.728966\n",
       "4      EU  37.282974\n",
       "5   LATAM  21.531328\n",
       "6      US  28.656896"
      ]
     },
     "execution_count": 40,
     "metadata": {},
     "output_type": "execute_result"
    }
   ],
   "source": [
    "market_vs_profit = df.groupby('market').mean()['profit'].reset_index()\n",
    "market_vs_profit"
   ]
  },
  {
   "cell_type": "code",
   "execution_count": 41,
   "metadata": {},
   "outputs": [
    {
     "data": {
      "image/png": "[encoded data removed]",
      "text/plain": [
       "<Figure size 432x288 with 1 Axes>"
      ]
     },
     "metadata": {
      "needs_background": "light"
     },
     "output_type": "display_data"
    }
   ],
   "source": [
    "sns.barplot(market_vs_profit['market'],market_vs_profit['profit'])\n",
    "plt.show()"
   ]
  },
  {
   "cell_type": "markdown",
   "metadata": {},
   "source": [
    "##### Though the less of products from Canada, the mean Profit is High for products from Canada Market\n",
    "\n",
    "#### Quality Is More Imp that Quantity"
   ]
  },
  {
   "cell_type": "markdown",
   "metadata": {},
   "source": [
    "### Market Vs Days to Ship"
   ]
  },
  {
   "cell_type": "code",
   "execution_count": 42,
   "metadata": {},
   "outputs": [
    {
     "data": {
      "image/png": "[encoded data removed]",
      "text/plain": [
       "<Figure size 1008x288 with 1 Axes>"
      ]
     },
     "metadata": {
      "needs_background": "light"
     },
     "output_type": "display_data"
    }
   ],
   "source": [
    "plt.figure(figsize=(14,4))\n",
    "sns.countplot(df['market'],hue=df['Days to Ship'])\n",
    "plt.show()"
   ]
  },
  {
   "cell_type": "markdown",
   "metadata": {},
   "source": [
    "##### On the Whole, More number of Products take 4 days to get delivered, irrespective of the Market."
   ]
  },
  {
   "cell_type": "markdown",
   "metadata": {},
   "source": [
    "### Region"
   ]
  },
  {
   "cell_type": "code",
   "execution_count": 43,
   "metadata": {},
   "outputs": [
    {
     "data": {
      "image/png": "[encoded data removed]",
      "text/plain": [
       "<Figure size 1008x288 with 1 Axes>"
      ]
     },
     "metadata": {
      "needs_background": "light"
     },
     "output_type": "display_data"
    }
   ],
   "source": [
    "plt.figure(figsize=(14,4))\n",
    "sns.countplot(df['region'])\n",
    "plt.show()"
   ]
  },
  {
   "cell_type": "markdown",
   "metadata": {},
   "source": [
    "##### More Number of Customers are from Central Region\n",
    "##### Least Number of Customers are from Canada"
   ]
  },
  {
   "cell_type": "markdown",
   "metadata": {},
   "source": [
    "### Region Vs Classes"
   ]
  },
  {
   "cell_type": "code",
   "execution_count": 44,
   "metadata": {},
   "outputs": [
    {
     "data": {
      "image/png": "[encoded data removed]",
      "text/plain": [
       "<Figure size 1008x288 with 1 Axes>"
      ]
     },
     "metadata": {
      "needs_background": "light"
     },
     "output_type": "display_data"
    }
   ],
   "source": [
    "plt.figure(figsize=(14,4))\n",
    "sns.countplot(df['region'],hue=df['Classes'])\n",
    "plt.show()"
   ]
  },
  {
   "cell_type": "markdown",
   "metadata": {},
   "source": [
    "##### There are more number highly contributing customers from Central Region.\n",
    "\n",
    "##### More number of Least Contributing Customers are from Africa."
   ]
  },
  {
   "cell_type": "markdown",
   "metadata": {},
   "source": [
    "### Region Vs Profit"
   ]
  },
  {
   "cell_type": "code",
   "execution_count": 45,
   "metadata": {},
   "outputs": [
    {
     "data": {
      "image/png": "[encoded data removed]",
      "text/plain": [
       "<Figure size 1008x288 with 1 Axes>"
      ]
     },
     "metadata": {
      "needs_background": "light"
     },
     "output_type": "display_data"
    }
   ],
   "source": [
    "plt.figure(figsize=(14,4))\n",
    "sns.stripplot(df['region'],df['profit'])\n",
    "plt.show()"
   ]
  },
  {
   "cell_type": "markdown",
   "metadata": {},
   "source": [
    "##### Highest Profit is with the Product delivered to the Central Region.\n",
    "##### Highest Loss is with the Product delivered to the customer belongs to East Region."
   ]
  },
  {
   "cell_type": "code",
   "execution_count": 46,
   "metadata": {},
   "outputs": [
    {
     "data": {
      "text/html": [
       "<div>\n",
       "<style scoped>\n",
       "    .dataframe tbody tr th:only-of-type {\n",
       "        vertical-align: middle;\n",
       "    }\n",
       "\n",
       "    .dataframe tbody tr th {\n",
       "        vertical-align: top;\n",
       "    }\n",
       "\n",
       "    .dataframe thead th {\n",
       "        text-align: right;\n",
       "    }\n",
       "</style>\n",
       "<table border=\"1\" class=\"dataframe\">\n",
       "  <thead>\n",
       "    <tr style=\"text-align: right;\">\n",
       "      <th></th>\n",
       "      <th>region</th>\n",
       "      <th>profit</th>\n",
       "    </tr>\n",
       "  </thead>\n",
       "  <tbody>\n",
       "    <tr>\n",
       "      <th>0</th>\n",
       "      <td>Africa</td>\n",
       "      <td>19.374674</td>\n",
       "    </tr>\n",
       "    <tr>\n",
       "      <th>1</th>\n",
       "      <td>Canada</td>\n",
       "      <td>46.399453</td>\n",
       "    </tr>\n",
       "    <tr>\n",
       "      <th>2</th>\n",
       "      <td>Caribbean</td>\n",
       "      <td>20.456403</td>\n",
       "    </tr>\n",
       "    <tr>\n",
       "      <th>3</th>\n",
       "      <td>Central</td>\n",
       "      <td>28.011512</td>\n",
       "    </tr>\n",
       "    <tr>\n",
       "      <th>4</th>\n",
       "      <td>Central Asia</td>\n",
       "      <td>64.687591</td>\n",
       "    </tr>\n",
       "    <tr>\n",
       "      <th>5</th>\n",
       "      <td>EMEA</td>\n",
       "      <td>8.728966</td>\n",
       "    </tr>\n",
       "    <tr>\n",
       "      <th>6</th>\n",
       "      <td>East</td>\n",
       "      <td>32.135808</td>\n",
       "    </tr>\n",
       "    <tr>\n",
       "      <th>7</th>\n",
       "      <td>North</td>\n",
       "      <td>40.668329</td>\n",
       "    </tr>\n",
       "    <tr>\n",
       "      <th>8</th>\n",
       "      <td>North Asia</td>\n",
       "      <td>70.820539</td>\n",
       "    </tr>\n",
       "    <tr>\n",
       "      <th>9</th>\n",
       "      <td>Oceania</td>\n",
       "      <td>34.891495</td>\n",
       "    </tr>\n",
       "    <tr>\n",
       "      <th>10</th>\n",
       "      <td>South</td>\n",
       "      <td>21.122011</td>\n",
       "    </tr>\n",
       "    <tr>\n",
       "      <th>11</th>\n",
       "      <td>Southeast Asia</td>\n",
       "      <td>5.705442</td>\n",
       "    </tr>\n",
       "    <tr>\n",
       "      <th>12</th>\n",
       "      <td>West</td>\n",
       "      <td>33.849032</td>\n",
       "    </tr>\n",
       "  </tbody>\n",
       "</table>\n",
       "</div>"
      ],
      "text/plain": [
       "            region     profit\n",
       "0           Africa  19.374674\n",
       "1           Canada  46.399453\n",
       "2        Caribbean  20.456403\n",
       "3          Central  28.011512\n",
       "4     Central Asia  64.687591\n",
       "5             EMEA   8.728966\n",
       "6             East  32.135808\n",
       "7            North  40.668329\n",
       "8       North Asia  70.820539\n",
       "9          Oceania  34.891495\n",
       "10           South  21.122011\n",
       "11  Southeast Asia   5.705442\n",
       "12            West  33.849032"
      ]
     },
     "execution_count": 46,
     "metadata": {},
     "output_type": "execute_result"
    }
   ],
   "source": [
    "region_vs_profit = df.groupby(df['region']).mean()['profit'].reset_index()\n",
    "region_vs_profit"
   ]
  },
  {
   "cell_type": "code",
   "execution_count": 47,
   "metadata": {},
   "outputs": [
    {
     "data": {
      "image/png": "[encoded data removed]",
      "text/plain": [
       "<Figure size 1008x288 with 1 Axes>"
      ]
     },
     "metadata": {
      "needs_background": "light"
     },
     "output_type": "display_data"
    }
   ],
   "source": [
    "plt.figure(figsize=(14,4))\n",
    "sns.barplot(region_vs_profit['region'],region_vs_profit['profit'])\n",
    "plt.show()"
   ]
  },
  {
   "cell_type": "markdown",
   "metadata": {},
   "source": [
    "##### Though the Customers from Canada are less, the mean profit for South East Asia is Less.\n",
    "##### The mean profit is high for the Customers who belong to North Asia."
   ]
  },
  {
   "cell_type": "markdown",
   "metadata": {},
   "source": [
    "### Category"
   ]
  },
  {
   "cell_type": "code",
   "execution_count": 48,
   "metadata": {},
   "outputs": [
    {
     "data": {
      "image/png": "[encoded data removed]",
      "text/plain": [
       "<Figure size 432x288 with 1 Axes>"
      ]
     },
     "metadata": {
      "needs_background": "light"
     },
     "output_type": "display_data"
    }
   ],
   "source": [
    "sns.countplot(df['category'])\n",
    "plt.show()"
   ]
  },
  {
   "cell_type": "markdown",
   "metadata": {},
   "source": [
    "##### More number of Products are brought from Office Supply Category and the number of products from Furniture and Technology Category are almost equal in number"
   ]
  },
  {
   "cell_type": "markdown",
   "metadata": {},
   "source": [
    "### Category Vs Classes"
   ]
  },
  {
   "cell_type": "code",
   "execution_count": 49,
   "metadata": {},
   "outputs": [
    {
     "data": {
      "image/png": "[encoded data removed]",
      "text/plain": [
       "<Figure size 432x288 with 1 Axes>"
      ]
     },
     "metadata": {
      "needs_background": "light"
     },
     "output_type": "display_data"
    }
   ],
   "source": [
    "sns.countplot(df['category'],hue=df['Classes'])\n",
    "plt.show()"
   ]
  },
  {
   "cell_type": "markdown",
   "metadata": {},
   "source": [
    "##### More Number of Customers are purchasing products from Office Supplies Category."
   ]
  },
  {
   "cell_type": "markdown",
   "metadata": {},
   "source": [
    "### Category Vs Profit"
   ]
  },
  {
   "cell_type": "code",
   "execution_count": 50,
   "metadata": {},
   "outputs": [
    {
     "data": {
      "image/png": "[encoded data removed]",
      "text/plain": [
       "<Figure size 432x288 with 1 Axes>"
      ]
     },
     "metadata": {
      "needs_background": "light"
     },
     "output_type": "display_data"
    }
   ],
   "source": [
    "sns.stripplot(df['category'],df['profit'])\n",
    "plt.show()"
   ]
  },
  {
   "cell_type": "code",
   "execution_count": 51,
   "metadata": {},
   "outputs": [
    {
     "data": {
      "image/png": "[encoded data removed]",
      "text/plain": [
       "<Figure size 432x288 with 1 Axes>"
      ]
     },
     "metadata": {
      "needs_background": "light"
     },
     "output_type": "display_data"
    }
   ],
   "source": [
    "sns.barplot(df.groupby(['category']).sum()['profit'].reset_index()['category'],df.groupby(['category']).sum()['profit'].reset_index()['profit'])\n",
    "plt.show()"
   ]
  },
  {
   "cell_type": "markdown",
   "metadata": {},
   "source": [
    "##### There is more profit with the Technology Category Products"
   ]
  },
  {
   "cell_type": "markdown",
   "metadata": {},
   "source": [
    "### Order Priority"
   ]
  },
  {
   "cell_type": "code",
   "execution_count": 52,
   "metadata": {},
   "outputs": [
    {
     "data": {
      "image/png": "[encoded data removed]",
      "text/plain": [
       "<Figure size 432x288 with 1 Axes>"
      ]
     },
     "metadata": {
      "needs_background": "light"
     },
     "output_type": "display_data"
    }
   ],
   "source": [
    "sns.countplot(df['order_priority'])\n",
    "plt.show()"
   ]
  },
  {
   "cell_type": "markdown",
   "metadata": {},
   "source": [
    "##### More number of Customers ordering products with Medium Priority\n",
    "##### Least Number of Customers ordering products with Low Priority"
   ]
  },
  {
   "cell_type": "code",
   "execution_count": 53,
   "metadata": {},
   "outputs": [
    {
     "data": {
      "image/png": "[encoded data removed]",
      "text/plain": [
       "<Figure size 432x288 with 1 Axes>"
      ]
     },
     "metadata": {
      "needs_background": "light"
     },
     "output_type": "display_data"
    }
   ],
   "source": [
    "sns.countplot(df['order_priority'],hue=df['Classes'])\n",
    "plt.show()"
   ]
  },
  {
   "cell_type": "markdown",
   "metadata": {},
   "source": [
    "##### Number of Least and High contributing people are same all the order priorities."
   ]
  },
  {
   "cell_type": "code",
   "execution_count": 54,
   "metadata": {},
   "outputs": [
    {
     "data": {
      "image/png": "[encoded data removed]",
      "text/plain": [
       "<Figure size 432x288 with 1 Axes>"
      ]
     },
     "metadata": {
      "needs_background": "light"
     },
     "output_type": "display_data"
    }
   ],
   "source": [
    "sns.distplot(df['cost price'])\n",
    "plt.show()"
   ]
  },
  {
   "cell_type": "code",
   "execution_count": 55,
   "metadata": {},
   "outputs": [
    {
     "data": {
      "text/plain": [
       "8.13808002122054"
      ]
     },
     "execution_count": 55,
     "metadata": {},
     "output_type": "execute_result"
    }
   ],
   "source": [
    "df['cost price'].skew()"
   ]
  },
  {
   "cell_type": "markdown",
   "metadata": {},
   "source": [
    "##### Cost Price is Highly Positve and Right Skewed. So it must be transformed"
   ]
  },
  {
   "cell_type": "markdown",
   "metadata": {},
   "source": [
    "### Cost Price Vs Profit"
   ]
  },
  {
   "cell_type": "code",
   "execution_count": 56,
   "metadata": {},
   "outputs": [
    {
     "data": {
      "image/png": "[encoded data removed]",
      "text/plain": [
       "<Figure size 432x288 with 1 Axes>"
      ]
     },
     "metadata": {
      "needs_background": "light"
     },
     "output_type": "display_data"
    }
   ],
   "source": [
    "sns.scatterplot(df['cost price'],df['profit'])\n",
    "plt.show()"
   ]
  },
  {
   "cell_type": "markdown",
   "metadata": {},
   "source": [
    "##### As the cost price increases, there is an increase in the profit."
   ]
  },
  {
   "cell_type": "markdown",
   "metadata": {},
   "source": [
    "### Cost Vs Classes"
   ]
  },
  {
   "cell_type": "code",
   "execution_count": 57,
   "metadata": {},
   "outputs": [
    {
     "data": {
      "text/html": [
       "<div>\n",
       "<style scoped>\n",
       "    .dataframe tbody tr th:only-of-type {\n",
       "        vertical-align: middle;\n",
       "    }\n",
       "\n",
       "    .dataframe tbody tr th {\n",
       "        vertical-align: top;\n",
       "    }\n",
       "\n",
       "    .dataframe thead th {\n",
       "        text-align: right;\n",
       "    }\n",
       "</style>\n",
       "<table border=\"1\" class=\"dataframe\">\n",
       "  <thead>\n",
       "    <tr style=\"text-align: right;\">\n",
       "      <th></th>\n",
       "      <th>Classes</th>\n",
       "      <th>cost price</th>\n",
       "    </tr>\n",
       "  </thead>\n",
       "  <tbody>\n",
       "    <tr>\n",
       "      <th>0</th>\n",
       "      <td>1</td>\n",
       "      <td>734.098175</td>\n",
       "    </tr>\n",
       "    <tr>\n",
       "      <th>1</th>\n",
       "      <td>2</td>\n",
       "      <td>161.213696</td>\n",
       "    </tr>\n",
       "    <tr>\n",
       "      <th>2</th>\n",
       "      <td>3</td>\n",
       "      <td>61.839252</td>\n",
       "    </tr>\n",
       "    <tr>\n",
       "      <th>3</th>\n",
       "      <td>4</td>\n",
       "      <td>28.774652</td>\n",
       "    </tr>\n",
       "  </tbody>\n",
       "</table>\n",
       "</div>"
      ],
      "text/plain": [
       "   Classes  cost price\n",
       "0        1  734.098175\n",
       "1        2  161.213696\n",
       "2        3   61.839252\n",
       "3        4   28.774652"
      ]
     },
     "execution_count": 57,
     "metadata": {},
     "output_type": "execute_result"
    }
   ],
   "source": [
    "cost_vs_classes = df.groupby(['Classes']).mean()['cost price'].reset_index()\n",
    "cost_vs_classes"
   ]
  },
  {
   "cell_type": "code",
   "execution_count": 58,
   "metadata": {},
   "outputs": [
    {
     "data": {
      "image/png": "[encoded data removed]",
      "text/plain": [
       "<Figure size 432x288 with 1 Axes>"
      ]
     },
     "metadata": {
      "needs_background": "light"
     },
     "output_type": "display_data"
    }
   ],
   "source": [
    "sns.barplot(cost_vs_classes['Classes'],cost_vs_classes['cost price'])\n",
    "plt.show()"
   ]
  },
  {
   "cell_type": "markdown",
   "metadata": {},
   "source": [
    "##### Here, the mean of Cost Price for Highly Contributing Customers is 734 USD .\n",
    "##### The average of Cost Price for Least Contributing Customers is 28 USD."
   ]
  },
  {
   "cell_type": "markdown",
   "metadata": {},
   "source": [
    "### Quantity"
   ]
  },
  {
   "cell_type": "code",
   "execution_count": 59,
   "metadata": {},
   "outputs": [
    {
     "data": {
      "image/png": "[encoded data removed]",
      "text/plain": [
       "<Figure size 432x288 with 1 Axes>"
      ]
     },
     "metadata": {
      "needs_background": "light"
     },
     "output_type": "display_data"
    }
   ],
   "source": [
    "sns.countplot(x=df['quantity'])\n",
    "plt.show()"
   ]
  },
  {
   "cell_type": "markdown",
   "metadata": {},
   "source": [
    "##### More Number of Customers are Ordering 2 Pieces for a Product"
   ]
  },
  {
   "cell_type": "markdown",
   "metadata": {},
   "source": [
    "### Quantity Vs Classes"
   ]
  },
  {
   "cell_type": "code",
   "execution_count": 60,
   "metadata": {},
   "outputs": [
    {
     "data": {
      "image/png": "[encoded data removed]",
      "text/plain": [
       "<Figure size 432x288 with 1 Axes>"
      ]
     },
     "metadata": {
      "needs_background": "light"
     },
     "output_type": "display_data"
    }
   ],
   "source": [
    "sns.countplot(df['quantity'],hue=df['Classes'])\n",
    "plt.show()"
   ]
  },
  {
   "cell_type": "markdown",
   "metadata": {},
   "source": [
    "##### We see that, the number of least contributing customers who are ordering less quantity."
   ]
  },
  {
   "cell_type": "markdown",
   "metadata": {},
   "source": [
    "### Discount Percent"
   ]
  },
  {
   "cell_type": "code",
   "execution_count": 61,
   "metadata": {},
   "outputs": [
    {
     "data": {
      "image/png": "[encoded data removed]",
      "text/plain": [
       "<Figure size 432x288 with 1 Axes>"
      ]
     },
     "metadata": {
      "needs_background": "light"
     },
     "output_type": "display_data"
    }
   ],
   "source": [
    "sns.distplot(df['discount percent'])\n",
    "plt.show()"
   ]
  },
  {
   "cell_type": "code",
   "execution_count": 62,
   "metadata": {},
   "outputs": [
    {
     "data": {
      "text/plain": [
       "1.3877745521338385"
      ]
     },
     "execution_count": 62,
     "metadata": {},
     "output_type": "execute_result"
    }
   ],
   "source": [
    "df['discount percent'].skew()"
   ]
  },
  {
   "cell_type": "code",
   "execution_count": 63,
   "metadata": {},
   "outputs": [
    {
     "data": {
      "text/plain": [
       "array([0.   , 0.1  , 0.5  , 0.4  , 0.45 , 0.55 , 0.47 , 0.002, 0.6  ,\n",
       "       0.2  , 0.8  , 0.17 , 0.25 , 0.7  , 0.402, 0.35 , 0.27 , 0.15 ,\n",
       "       0.37 , 0.65 , 0.3  , 0.15 , 0.07 , 0.602, 0.32 , 0.202, 0.57 ,\n",
       "       0.85 , 0.45 ])"
      ]
     },
     "execution_count": 63,
     "metadata": {},
     "output_type": "execute_result"
    }
   ],
   "source": [
    "df['discount percent'].unique()"
   ]
  },
  {
   "cell_type": "code",
   "execution_count": 64,
   "metadata": {},
   "outputs": [
    {
     "data": {
      "text/plain": [
       "0.85"
      ]
     },
     "execution_count": 64,
     "metadata": {},
     "output_type": "execute_result"
    }
   ],
   "source": [
    "max(df['discount percent'])"
   ]
  },
  {
   "cell_type": "code",
   "execution_count": 65,
   "metadata": {},
   "outputs": [
    {
     "data": {
      "text/plain": [
       "29"
      ]
     },
     "execution_count": 65,
     "metadata": {},
     "output_type": "execute_result"
    }
   ],
   "source": [
    "df['discount percent'].nunique()"
   ]
  },
  {
   "cell_type": "markdown",
   "metadata": {},
   "source": [
    "##### However, Discount Percent is Numerical, And it ranges from 0.0 to 0.85 and only 29 unique values. So need not perfrom any transformation"
   ]
  },
  {
   "cell_type": "markdown",
   "metadata": {},
   "source": [
    "### Profit"
   ]
  },
  {
   "cell_type": "code",
   "execution_count": 66,
   "metadata": {},
   "outputs": [
    {
     "data": {
      "image/png": "[encoded data removed]",
      "text/plain": [
       "<Figure size 432x288 with 1 Axes>"
      ]
     },
     "metadata": {
      "needs_background": "light"
     },
     "output_type": "display_data"
    }
   ],
   "source": [
    "sns.distplot(df['profit'])\n",
    "plt.show()"
   ]
  },
  {
   "cell_type": "code",
   "execution_count": 67,
   "metadata": {},
   "outputs": [
    {
     "data": {
      "text/plain": [
       "4.158187751396986"
      ]
     },
     "execution_count": 67,
     "metadata": {},
     "output_type": "execute_result"
    }
   ],
   "source": [
    "df['profit'].skew()"
   ]
  },
  {
   "cell_type": "markdown",
   "metadata": {},
   "source": [
    "##### Profit needs transformation as the skewness is high."
   ]
  },
  {
   "cell_type": "markdown",
   "metadata": {},
   "source": [
    "### Profit Vs Classes"
   ]
  },
  {
   "cell_type": "code",
   "execution_count": 68,
   "metadata": {},
   "outputs": [
    {
     "data": {
      "text/html": [
       "<div>\n",
       "<style scoped>\n",
       "    .dataframe tbody tr th:only-of-type {\n",
       "        vertical-align: middle;\n",
       "    }\n",
       "\n",
       "    .dataframe tbody tr th {\n",
       "        vertical-align: top;\n",
       "    }\n",
       "\n",
       "    .dataframe thead th {\n",
       "        text-align: right;\n",
       "    }\n",
       "</style>\n",
       "<table border=\"1\" class=\"dataframe\">\n",
       "  <thead>\n",
       "    <tr style=\"text-align: right;\">\n",
       "      <th></th>\n",
       "      <th>Classes</th>\n",
       "      <th>profit</th>\n",
       "    </tr>\n",
       "  </thead>\n",
       "  <tbody>\n",
       "    <tr>\n",
       "      <th>0</th>\n",
       "      <td>1</td>\n",
       "      <td>117.228960</td>\n",
       "    </tr>\n",
       "    <tr>\n",
       "      <th>1</th>\n",
       "      <td>2</td>\n",
       "      <td>14.588795</td>\n",
       "    </tr>\n",
       "    <tr>\n",
       "      <th>2</th>\n",
       "      <td>3</td>\n",
       "      <td>1.635680</td>\n",
       "    </tr>\n",
       "    <tr>\n",
       "      <th>3</th>\n",
       "      <td>4</td>\n",
       "      <td>-18.891700</td>\n",
       "    </tr>\n",
       "  </tbody>\n",
       "</table>\n",
       "</div>"
      ],
      "text/plain": [
       "   Classes      profit\n",
       "0        1  117.228960\n",
       "1        2   14.588795\n",
       "2        3    1.635680\n",
       "3        4  -18.891700"
      ]
     },
     "execution_count": 68,
     "metadata": {},
     "output_type": "execute_result"
    }
   ],
   "source": [
    "profit_vs_classes = df.groupby(['Classes']).mean()['profit'].reset_index()\n",
    "profit_vs_classes"
   ]
  },
  {
   "cell_type": "code",
   "execution_count": 69,
   "metadata": {},
   "outputs": [
    {
     "data": {
      "image/png": "[encoded data removed]",
      "text/plain": [
       "<Figure size 432x288 with 1 Axes>"
      ]
     },
     "metadata": {
      "needs_background": "light"
     },
     "output_type": "display_data"
    }
   ],
   "source": [
    "sns.barplot(profit_vs_classes['Classes'],profit_vs_classes['profit'])\n",
    "plt.show()"
   ]
  },
  {
   "cell_type": "markdown",
   "metadata": {},
   "source": [
    "##### Here, we can conclude that, The Mean Profit for High Contributing People is 117 USD\n",
    "##### The mean Profit for Least Contributing People is -18 USD, which says that there is a mean loss of 18 USD"
   ]
  },
  {
   "cell_type": "markdown",
   "metadata": {},
   "source": [
    "### Shipping Cost"
   ]
  },
  {
   "cell_type": "code",
   "execution_count": 70,
   "metadata": {},
   "outputs": [
    {
     "data": {
      "image/png": "[encoded data removed]",
      "text/plain": [
       "<Figure size 432x288 with 1 Axes>"
      ]
     },
     "metadata": {
      "needs_background": "light"
     },
     "output_type": "display_data"
    }
   ],
   "source": [
    "sns.distplot(df['shipping_cost'])\n",
    "plt.show()"
   ]
  },
  {
   "cell_type": "code",
   "execution_count": 71,
   "metadata": {},
   "outputs": [
    {
     "data": {
      "text/plain": [
       "5.8632245214909435"
      ]
     },
     "execution_count": 71,
     "metadata": {},
     "output_type": "execute_result"
    }
   ],
   "source": [
    "df['shipping_cost'].skew()"
   ]
  },
  {
   "cell_type": "markdown",
   "metadata": {},
   "source": [
    "##### It is RightSkewed. So need to Transformed."
   ]
  },
  {
   "cell_type": "markdown",
   "metadata": {},
   "source": [
    "### Shipping Cost Vs Classes"
   ]
  },
  {
   "cell_type": "code",
   "execution_count": 72,
   "metadata": {},
   "outputs": [
    {
     "data": {
      "text/html": [
       "<div>\n",
       "<style scoped>\n",
       "    .dataframe tbody tr th:only-of-type {\n",
       "        vertical-align: middle;\n",
       "    }\n",
       "\n",
       "    .dataframe tbody tr th {\n",
       "        vertical-align: top;\n",
       "    }\n",
       "\n",
       "    .dataframe thead th {\n",
       "        text-align: right;\n",
       "    }\n",
       "</style>\n",
       "<table border=\"1\" class=\"dataframe\">\n",
       "  <thead>\n",
       "    <tr style=\"text-align: right;\">\n",
       "      <th></th>\n",
       "      <th>Classes</th>\n",
       "      <th>shipping_cost</th>\n",
       "    </tr>\n",
       "  </thead>\n",
       "  <tbody>\n",
       "    <tr>\n",
       "      <th>0</th>\n",
       "      <td>1</td>\n",
       "      <td>77.804534</td>\n",
       "    </tr>\n",
       "    <tr>\n",
       "      <th>1</th>\n",
       "      <td>2</td>\n",
       "      <td>17.749360</td>\n",
       "    </tr>\n",
       "    <tr>\n",
       "      <th>2</th>\n",
       "      <td>3</td>\n",
       "      <td>6.769597</td>\n",
       "    </tr>\n",
       "    <tr>\n",
       "      <th>3</th>\n",
       "      <td>4</td>\n",
       "      <td>3.175866</td>\n",
       "    </tr>\n",
       "  </tbody>\n",
       "</table>\n",
       "</div>"
      ],
      "text/plain": [
       "   Classes  shipping_cost\n",
       "0        1      77.804534\n",
       "1        2      17.749360\n",
       "2        3       6.769597\n",
       "3        4       3.175866"
      ]
     },
     "execution_count": 72,
     "metadata": {},
     "output_type": "execute_result"
    }
   ],
   "source": [
    "shippingcost_vs_classes = df.groupby(['Classes']).mean()['shipping_cost'].reset_index()\n",
    "shippingcost_vs_classes"
   ]
  },
  {
   "cell_type": "code",
   "execution_count": 73,
   "metadata": {},
   "outputs": [
    {
     "data": {
      "image/png": "[encoded data removed]",
      "text/plain": [
       "<Figure size 432x288 with 1 Axes>"
      ]
     },
     "metadata": {
      "needs_background": "light"
     },
     "output_type": "display_data"
    }
   ],
   "source": [
    "sns.barplot(shippingcost_vs_classes['Classes'],shippingcost_vs_classes['shipping_cost'])\n",
    "plt.show()"
   ]
  },
  {
   "cell_type": "markdown",
   "metadata": {},
   "source": [
    "##### Mean of Shipping Cost is High for Highly Contributing Customers and Less for Least Contributing Customers"
   ]
  },
  {
   "cell_type": "markdown",
   "metadata": {},
   "source": [
    "### Days to Ship"
   ]
  },
  {
   "cell_type": "code",
   "execution_count": 74,
   "metadata": {},
   "outputs": [
    {
     "data": {
      "image/png": "[encoded data removed]",
      "text/plain": [
       "<Figure size 432x288 with 1 Axes>"
      ]
     },
     "metadata": {
      "needs_background": "light"
     },
     "output_type": "display_data"
    }
   ],
   "source": [
    "sns.countplot(df['Days to Ship'])\n",
    "plt.show()"
   ]
  },
  {
   "cell_type": "markdown",
   "metadata": {},
   "source": [
    "##### The Super Market is Taking Maximum 7 days to Deliver a Product\n",
    "\n",
    "##### For most of the Customers the products are being delivered in 4 Days."
   ]
  },
  {
   "cell_type": "code",
   "execution_count": 75,
   "metadata": {},
   "outputs": [
    {
     "data": {
      "image/png": "[encoded data removed]",
      "text/plain": [
       "<Figure size 432x288 with 1 Axes>"
      ]
     },
     "metadata": {
      "needs_background": "light"
     },
     "output_type": "display_data"
    }
   ],
   "source": [
    "sns.countplot(df['Days to Ship'],hue=df['Classes'])\n",
    "plt.show()"
   ]
  },
  {
   "cell_type": "markdown",
   "metadata": {},
   "source": [
    "###### Equal number of Highly and Least Contributing Customers for Each Days to Ship the Product."
   ]
  },
  {
   "cell_type": "markdown",
   "metadata": {},
   "source": [
    "### Classes"
   ]
  },
  {
   "cell_type": "code",
   "execution_count": 76,
   "metadata": {},
   "outputs": [
    {
     "data": {
      "image/png": "[encoded data removed]",
      "text/plain": [
       "<Figure size 432x288 with 1 Axes>"
      ]
     },
     "metadata": {
      "needs_background": "light"
     },
     "output_type": "display_data"
    }
   ],
   "source": [
    "sns.countplot(df['Classes'])\n",
    "plt.show()"
   ]
  },
  {
   "cell_type": "code",
   "execution_count": 77,
   "metadata": {},
   "outputs": [
    {
     "data": {
      "text/plain": [
       "2    12824\n",
       "4    12823\n",
       "1    12823\n",
       "3    12820\n",
       "Name: Classes, dtype: int64"
      ]
     },
     "execution_count": 77,
     "metadata": {},
     "output_type": "execute_result"
    }
   ],
   "source": [
    "df['Classes'].value_counts()"
   ]
  },
  {
   "cell_type": "markdown",
   "metadata": {},
   "source": [
    "##### Equal Number of Records for each and every class. So it is Balanced"
   ]
  },
  {
   "cell_type": "markdown",
   "metadata": {},
   "source": [
    "## Data PreProcessing"
   ]
  },
  {
   "cell_type": "markdown",
   "metadata": {},
   "source": [
    "### Label Encoding For All the Categorical Features"
   ]
  },
  {
   "cell_type": "code",
   "execution_count": 78,
   "metadata": {},
   "outputs": [
    {
     "data": {
      "text/plain": [
       "Index(['ship_mode', 'segment', 'market', 'region', 'category',\n",
       "       'order_priority'],\n",
       "      dtype='object')"
      ]
     },
     "execution_count": 78,
     "metadata": {},
     "output_type": "execute_result"
    }
   ],
   "source": [
    "df.select_dtypes('O').columns"
   ]
  },
  {
   "cell_type": "code",
   "execution_count": 79,
   "metadata": {},
   "outputs": [],
   "source": [
    "ship_mode_encoder = LabelEncoder()\n",
    "df['ship_mode'] = ship_mode_encoder.fit_transform(df['ship_mode'])\n",
    "\n",
    "segment_encoder = LabelEncoder()\n",
    "df['segment'] = segment_encoder.fit_transform(df['segment'])\n",
    "\n",
    "market_encoder = LabelEncoder()\n",
    "df['market'] = market_encoder.fit_transform(df['market'])\n",
    "\n",
    "region_encoder = LabelEncoder()\n",
    "df['region'] = region_encoder.fit_transform(df['region'])\n",
    "\n",
    "category_encoder = LabelEncoder()\n",
    "df['category'] = category_encoder.fit_transform(df['category'])\n",
    "\n",
    "order_priority_encoder = LabelEncoder()\n",
    "df['order_priority'] = order_priority_encoder.fit_transform(df['order_priority'])\n"
   ]
  },
  {
   "cell_type": "code",
   "execution_count": 80,
   "metadata": {},
   "outputs": [
    {
     "data": {
      "text/html": [
       "<div>\n",
       "<style scoped>\n",
       "    .dataframe tbody tr th:only-of-type {\n",
       "        vertical-align: middle;\n",
       "    }\n",
       "\n",
       "    .dataframe tbody tr th {\n",
       "        vertical-align: top;\n",
       "    }\n",
       "\n",
       "    .dataframe thead th {\n",
       "        text-align: right;\n",
       "    }\n",
       "</style>\n",
       "<table border=\"1\" class=\"dataframe\">\n",
       "  <thead>\n",
       "    <tr style=\"text-align: right;\">\n",
       "      <th></th>\n",
       "      <th>ship_mode</th>\n",
       "      <th>segment</th>\n",
       "      <th>market</th>\n",
       "      <th>region</th>\n",
       "      <th>category</th>\n",
       "      <th>order_priority</th>\n",
       "      <th>cost price</th>\n",
       "      <th>quantity</th>\n",
       "      <th>discount percent</th>\n",
       "      <th>profit</th>\n",
       "      <th>shipping_cost</th>\n",
       "      <th>Days to Ship</th>\n",
       "      <th>Classes</th>\n",
       "    </tr>\n",
       "  </thead>\n",
       "  <tbody>\n",
       "    <tr>\n",
       "      <th>0</th>\n",
       "      <td>3</td>\n",
       "      <td>0</td>\n",
       "      <td>1</td>\n",
       "      <td>0</td>\n",
       "      <td>1</td>\n",
       "      <td>3</td>\n",
       "      <td>408.300</td>\n",
       "      <td>2</td>\n",
       "      <td>0.0</td>\n",
       "      <td>106.140</td>\n",
       "      <td>35.46</td>\n",
       "      <td>5</td>\n",
       "      <td>1</td>\n",
       "    </tr>\n",
       "    <tr>\n",
       "      <th>1</th>\n",
       "      <td>3</td>\n",
       "      <td>0</td>\n",
       "      <td>0</td>\n",
       "      <td>9</td>\n",
       "      <td>1</td>\n",
       "      <td>3</td>\n",
       "      <td>120.366</td>\n",
       "      <td>3</td>\n",
       "      <td>0.1</td>\n",
       "      <td>36.036</td>\n",
       "      <td>9.72</td>\n",
       "      <td>7</td>\n",
       "      <td>2</td>\n",
       "    </tr>\n",
       "    <tr>\n",
       "      <th>2</th>\n",
       "      <td>2</td>\n",
       "      <td>0</td>\n",
       "      <td>3</td>\n",
       "      <td>5</td>\n",
       "      <td>1</td>\n",
       "      <td>1</td>\n",
       "      <td>66.120</td>\n",
       "      <td>4</td>\n",
       "      <td>0.0</td>\n",
       "      <td>29.640</td>\n",
       "      <td>8.17</td>\n",
       "      <td>4</td>\n",
       "      <td>2</td>\n",
       "    </tr>\n",
       "    <tr>\n",
       "      <th>3</th>\n",
       "      <td>2</td>\n",
       "      <td>2</td>\n",
       "      <td>4</td>\n",
       "      <td>7</td>\n",
       "      <td>1</td>\n",
       "      <td>1</td>\n",
       "      <td>44.865</td>\n",
       "      <td>3</td>\n",
       "      <td>0.5</td>\n",
       "      <td>-26.055</td>\n",
       "      <td>4.82</td>\n",
       "      <td>4</td>\n",
       "      <td>4</td>\n",
       "    </tr>\n",
       "    <tr>\n",
       "      <th>4</th>\n",
       "      <td>3</td>\n",
       "      <td>0</td>\n",
       "      <td>0</td>\n",
       "      <td>9</td>\n",
       "      <td>0</td>\n",
       "      <td>3</td>\n",
       "      <td>113.670</td>\n",
       "      <td>5</td>\n",
       "      <td>0.1</td>\n",
       "      <td>37.770</td>\n",
       "      <td>4.70</td>\n",
       "      <td>7</td>\n",
       "      <td>2</td>\n",
       "    </tr>\n",
       "  </tbody>\n",
       "</table>\n",
       "</div>"
      ],
      "text/plain": [
       "   ship_mode  segment  market  region  category  order_priority  cost price  \\\n",
       "0          3        0       1       0         1               3     408.300   \n",
       "1          3        0       0       9         1               3     120.366   \n",
       "2          2        0       3       5         1               1      66.120   \n",
       "3          2        2       4       7         1               1      44.865   \n",
       "4          3        0       0       9         0               3     113.670   \n",
       "\n",
       "   quantity  discount percent   profit  shipping_cost  Days to Ship  Classes  \n",
       "0         2               0.0  106.140          35.46             5        1  \n",
       "1         3               0.1   36.036           9.72             7        2  \n",
       "2         4               0.0   29.640           8.17             4        2  \n",
       "3         3               0.5  -26.055           4.82             4        4  \n",
       "4         5               0.1   37.770           4.70             7        2  "
      ]
     },
     "execution_count": 80,
     "metadata": {},
     "output_type": "execute_result"
    }
   ],
   "source": [
    "df.head()"
   ]
  },
  {
   "cell_type": "markdown",
   "metadata": {},
   "source": [
    "### Transformations for Continuous Features"
   ]
  },
  {
   "cell_type": "code",
   "execution_count": 81,
   "metadata": {},
   "outputs": [
    {
     "data": {
      "text/plain": [
       "0.07551786053299225"
      ]
     },
     "execution_count": 81,
     "metadata": {},
     "output_type": "execute_result"
    }
   ],
   "source": [
    "log_cost_price = np.log(df['cost price'])\n",
    "log_cost_price.skew()"
   ]
  },
  {
   "cell_type": "code",
   "execution_count": 82,
   "metadata": {},
   "outputs": [
    {
     "data": {
      "image/png": "[encoded data removed]",
      "text/plain": [
       "<Figure size 432x288 with 1 Axes>"
      ]
     },
     "metadata": {
      "needs_background": "light"
     },
     "output_type": "display_data"
    }
   ],
   "source": [
    "sns.distplot(log_cost_price)\n",
    "plt.show()"
   ]
  },
  {
   "cell_type": "markdown",
   "metadata": {},
   "source": [
    "#### Log Transformation is perfectly giving the Normal Distribution."
   ]
  },
  {
   "cell_type": "code",
   "execution_count": 83,
   "metadata": {},
   "outputs": [],
   "source": [
    "df['cost price'] = log_cost_price"
   ]
  },
  {
   "cell_type": "code",
   "execution_count": 84,
   "metadata": {},
   "outputs": [
    {
     "data": {
      "text/plain": [
       "-0.02210829782596857"
      ]
     },
     "execution_count": 84,
     "metadata": {},
     "output_type": "execute_result"
    }
   ],
   "source": [
    "log_shipping_cost = np.log(df['shipping_cost'])\n",
    "log_shipping_cost.skew()"
   ]
  },
  {
   "cell_type": "code",
   "execution_count": 85,
   "metadata": {},
   "outputs": [
    {
     "data": {
      "image/png": "[encoded data removed]",
      "text/plain": [
       "<Figure size 432x288 with 1 Axes>"
      ]
     },
     "metadata": {
      "needs_background": "light"
     },
     "output_type": "display_data"
    }
   ],
   "source": [
    "sns.distplot(log_shipping_cost)\n",
    "plt.show()"
   ]
  },
  {
   "cell_type": "code",
   "execution_count": 86,
   "metadata": {},
   "outputs": [],
   "source": [
    "df['shipping_cost']=log_shipping_cost"
   ]
  },
  {
   "cell_type": "code",
   "execution_count": 87,
   "metadata": {},
   "outputs": [
    {
     "data": {
      "text/html": [
       "<div>\n",
       "<style scoped>\n",
       "    .dataframe tbody tr th:only-of-type {\n",
       "        vertical-align: middle;\n",
       "    }\n",
       "\n",
       "    .dataframe tbody tr th {\n",
       "        vertical-align: top;\n",
       "    }\n",
       "\n",
       "    .dataframe thead th {\n",
       "        text-align: right;\n",
       "    }\n",
       "</style>\n",
       "<table border=\"1\" class=\"dataframe\">\n",
       "  <thead>\n",
       "    <tr style=\"text-align: right;\">\n",
       "      <th></th>\n",
       "      <th>ship_mode</th>\n",
       "      <th>segment</th>\n",
       "      <th>market</th>\n",
       "      <th>region</th>\n",
       "      <th>category</th>\n",
       "      <th>order_priority</th>\n",
       "      <th>cost price</th>\n",
       "      <th>quantity</th>\n",
       "      <th>discount percent</th>\n",
       "      <th>profit</th>\n",
       "      <th>shipping_cost</th>\n",
       "      <th>Days to Ship</th>\n",
       "      <th>Classes</th>\n",
       "    </tr>\n",
       "  </thead>\n",
       "  <tbody>\n",
       "    <tr>\n",
       "      <th>0</th>\n",
       "      <td>3</td>\n",
       "      <td>0</td>\n",
       "      <td>1</td>\n",
       "      <td>0</td>\n",
       "      <td>1</td>\n",
       "      <td>3</td>\n",
       "      <td>6.012002</td>\n",
       "      <td>2</td>\n",
       "      <td>0.0</td>\n",
       "      <td>106.140</td>\n",
       "      <td>3.568405</td>\n",
       "      <td>5</td>\n",
       "      <td>1</td>\n",
       "    </tr>\n",
       "    <tr>\n",
       "      <th>1</th>\n",
       "      <td>3</td>\n",
       "      <td>0</td>\n",
       "      <td>0</td>\n",
       "      <td>9</td>\n",
       "      <td>1</td>\n",
       "      <td>3</td>\n",
       "      <td>4.790537</td>\n",
       "      <td>3</td>\n",
       "      <td>0.1</td>\n",
       "      <td>36.036</td>\n",
       "      <td>2.274186</td>\n",
       "      <td>7</td>\n",
       "      <td>2</td>\n",
       "    </tr>\n",
       "  </tbody>\n",
       "</table>\n",
       "</div>"
      ],
      "text/plain": [
       "   ship_mode  segment  market  region  category  order_priority  cost price  \\\n",
       "0          3        0       1       0         1               3    6.012002   \n",
       "1          3        0       0       9         1               3    4.790537   \n",
       "\n",
       "   quantity  discount percent   profit  shipping_cost  Days to Ship  Classes  \n",
       "0         2               0.0  106.140       3.568405             5        1  \n",
       "1         3               0.1   36.036       2.274186             7        2  "
      ]
     },
     "execution_count": 87,
     "metadata": {},
     "output_type": "execute_result"
    }
   ],
   "source": [
    "df.head(2)"
   ]
  },
  {
   "cell_type": "markdown",
   "metadata": {},
   "source": [
    "##### Here profit is both negative and positive and we have added to the Selling Price before Classes Variable is Created. So we are dropping that here."
   ]
  },
  {
   "cell_type": "code",
   "execution_count": 88,
   "metadata": {},
   "outputs": [],
   "source": [
    "df.drop('profit',axis=1,inplace=True)"
   ]
  },
  {
   "cell_type": "code",
   "execution_count": 89,
   "metadata": {},
   "outputs": [],
   "source": [
    "#sns.pairplot(df)\n",
    "#plt.show()"
   ]
  },
  {
   "cell_type": "code",
   "execution_count": 90,
   "metadata": {},
   "outputs": [
    {
     "data": {
      "text/html": [
       "<div>\n",
       "<style scoped>\n",
       "    .dataframe tbody tr th:only-of-type {\n",
       "        vertical-align: middle;\n",
       "    }\n",
       "\n",
       "    .dataframe tbody tr th {\n",
       "        vertical-align: top;\n",
       "    }\n",
       "\n",
       "    .dataframe thead th {\n",
       "        text-align: right;\n",
       "    }\n",
       "</style>\n",
       "<table border=\"1\" class=\"dataframe\">\n",
       "  <thead>\n",
       "    <tr style=\"text-align: right;\">\n",
       "      <th></th>\n",
       "      <th>ship_mode</th>\n",
       "      <th>segment</th>\n",
       "      <th>market</th>\n",
       "      <th>region</th>\n",
       "      <th>category</th>\n",
       "      <th>order_priority</th>\n",
       "      <th>cost price</th>\n",
       "      <th>quantity</th>\n",
       "      <th>discount percent</th>\n",
       "      <th>shipping_cost</th>\n",
       "      <th>Days to Ship</th>\n",
       "      <th>Classes</th>\n",
       "    </tr>\n",
       "  </thead>\n",
       "  <tbody>\n",
       "    <tr>\n",
       "      <th>ship_mode</th>\n",
       "      <td>1.000000</td>\n",
       "      <td>0.005935</td>\n",
       "      <td>-0.003953</td>\n",
       "      <td>-0.002691</td>\n",
       "      <td>-0.000562</td>\n",
       "      <td>0.404562</td>\n",
       "      <td>0.002676</td>\n",
       "      <td>0.004688</td>\n",
       "      <td>-0.009721</td>\n",
       "      <td>-0.163154</td>\n",
       "      <td>0.719340</td>\n",
       "      <td>-0.008799</td>\n",
       "    </tr>\n",
       "    <tr>\n",
       "      <th>segment</th>\n",
       "      <td>0.005935</td>\n",
       "      <td>1.000000</td>\n",
       "      <td>-0.003492</td>\n",
       "      <td>-0.010222</td>\n",
       "      <td>-0.001518</td>\n",
       "      <td>0.014027</td>\n",
       "      <td>0.000077</td>\n",
       "      <td>0.001593</td>\n",
       "      <td>-0.004460</td>\n",
       "      <td>-0.002504</td>\n",
       "      <td>0.006635</td>\n",
       "      <td>-0.000027</td>\n",
       "    </tr>\n",
       "    <tr>\n",
       "      <th>market</th>\n",
       "      <td>-0.003953</td>\n",
       "      <td>-0.003492</td>\n",
       "      <td>1.000000</td>\n",
       "      <td>0.055865</td>\n",
       "      <td>-0.023264</td>\n",
       "      <td>-0.000213</td>\n",
       "      <td>-0.101445</td>\n",
       "      <td>0.077911</td>\n",
       "      <td>-0.017332</td>\n",
       "      <td>-0.092730</td>\n",
       "      <td>0.006612</td>\n",
       "      <td>0.030859</td>\n",
       "    </tr>\n",
       "    <tr>\n",
       "      <th>region</th>\n",
       "      <td>-0.002691</td>\n",
       "      <td>-0.010222</td>\n",
       "      <td>0.055865</td>\n",
       "      <td>1.000000</td>\n",
       "      <td>-0.026347</td>\n",
       "      <td>-0.003372</td>\n",
       "      <td>0.055697</td>\n",
       "      <td>0.127454</td>\n",
       "      <td>0.028198</td>\n",
       "      <td>0.049464</td>\n",
       "      <td>-0.002431</td>\n",
       "      <td>-0.086437</td>\n",
       "    </tr>\n",
       "    <tr>\n",
       "      <th>category</th>\n",
       "      <td>-0.000562</td>\n",
       "      <td>-0.001518</td>\n",
       "      <td>-0.023264</td>\n",
       "      <td>-0.026347</td>\n",
       "      <td>1.000000</td>\n",
       "      <td>-0.006390</td>\n",
       "      <td>0.046664</td>\n",
       "      <td>-0.009578</td>\n",
       "      <td>-0.047841</td>\n",
       "      <td>0.043306</td>\n",
       "      <td>-0.003734</td>\n",
       "      <td>-0.040853</td>\n",
       "    </tr>\n",
       "    <tr>\n",
       "      <th>order_priority</th>\n",
       "      <td>0.404562</td>\n",
       "      <td>0.014027</td>\n",
       "      <td>-0.000213</td>\n",
       "      <td>-0.003372</td>\n",
       "      <td>-0.006390</td>\n",
       "      <td>1.000000</td>\n",
       "      <td>-0.001400</td>\n",
       "      <td>0.004435</td>\n",
       "      <td>0.005411</td>\n",
       "      <td>-0.240183</td>\n",
       "      <td>0.488164</td>\n",
       "      <td>-0.001448</td>\n",
       "    </tr>\n",
       "    <tr>\n",
       "      <th>cost price</th>\n",
       "      <td>0.002676</td>\n",
       "      <td>0.000077</td>\n",
       "      <td>-0.101445</td>\n",
       "      <td>0.055697</td>\n",
       "      <td>0.046664</td>\n",
       "      <td>-0.001400</td>\n",
       "      <td>1.000000</td>\n",
       "      <td>0.403163</td>\n",
       "      <td>-0.204172</td>\n",
       "      <td>0.908664</td>\n",
       "      <td>-0.001558</td>\n",
       "      <td>-0.861036</td>\n",
       "    </tr>\n",
       "    <tr>\n",
       "      <th>quantity</th>\n",
       "      <td>0.004688</td>\n",
       "      <td>0.001593</td>\n",
       "      <td>0.077911</td>\n",
       "      <td>0.127454</td>\n",
       "      <td>-0.009578</td>\n",
       "      <td>0.004435</td>\n",
       "      <td>0.403163</td>\n",
       "      <td>1.000000</td>\n",
       "      <td>-0.019875</td>\n",
       "      <td>0.362727</td>\n",
       "      <td>0.004347</td>\n",
       "      <td>-0.565544</td>\n",
       "    </tr>\n",
       "    <tr>\n",
       "      <th>discount percent</th>\n",
       "      <td>-0.009721</td>\n",
       "      <td>-0.004460</td>\n",
       "      <td>-0.017332</td>\n",
       "      <td>0.028198</td>\n",
       "      <td>-0.047841</td>\n",
       "      <td>0.005411</td>\n",
       "      <td>-0.204172</td>\n",
       "      <td>-0.019875</td>\n",
       "      <td>1.000000</td>\n",
       "      <td>-0.186483</td>\n",
       "      <td>-0.001507</td>\n",
       "      <td>0.348802</td>\n",
       "    </tr>\n",
       "    <tr>\n",
       "      <th>shipping_cost</th>\n",
       "      <td>-0.163154</td>\n",
       "      <td>-0.002504</td>\n",
       "      <td>-0.092730</td>\n",
       "      <td>0.049464</td>\n",
       "      <td>0.043306</td>\n",
       "      <td>-0.240183</td>\n",
       "      <td>0.908664</td>\n",
       "      <td>0.362727</td>\n",
       "      <td>-0.186483</td>\n",
       "      <td>1.000000</td>\n",
       "      <td>-0.158767</td>\n",
       "      <td>-0.781511</td>\n",
       "    </tr>\n",
       "    <tr>\n",
       "      <th>Days to Ship</th>\n",
       "      <td>0.719340</td>\n",
       "      <td>0.006635</td>\n",
       "      <td>0.006612</td>\n",
       "      <td>-0.002431</td>\n",
       "      <td>-0.003734</td>\n",
       "      <td>0.488164</td>\n",
       "      <td>-0.001558</td>\n",
       "      <td>0.004347</td>\n",
       "      <td>-0.001507</td>\n",
       "      <td>-0.158767</td>\n",
       "      <td>1.000000</td>\n",
       "      <td>-0.005118</td>\n",
       "    </tr>\n",
       "    <tr>\n",
       "      <th>Classes</th>\n",
       "      <td>-0.008799</td>\n",
       "      <td>-0.000027</td>\n",
       "      <td>0.030859</td>\n",
       "      <td>-0.086437</td>\n",
       "      <td>-0.040853</td>\n",
       "      <td>-0.001448</td>\n",
       "      <td>-0.861036</td>\n",
       "      <td>-0.565544</td>\n",
       "      <td>0.348802</td>\n",
       "      <td>-0.781511</td>\n",
       "      <td>-0.005118</td>\n",
       "      <td>1.000000</td>\n",
       "    </tr>\n",
       "  </tbody>\n",
       "</table>\n",
       "</div>"
      ],
      "text/plain": [
       "                  ship_mode   segment    market    region  category  \\\n",
       "ship_mode          1.000000  0.005935 -0.003953 -0.002691 -0.000562   \n",
       "segment            0.005935  1.000000 -0.003492 -0.010222 -0.001518   \n",
       "market            -0.003953 -0.003492  1.000000  0.055865 -0.023264   \n",
       "region            -0.002691 -0.010222  0.055865  1.000000 -0.026347   \n",
       "category          -0.000562 -0.001518 -0.023264 -0.026347  1.000000   \n",
       "order_priority     0.404562  0.014027 -0.000213 -0.003372 -0.006390   \n",
       "cost price         0.002676  0.000077 -0.101445  0.055697  0.046664   \n",
       "quantity           0.004688  0.001593  0.077911  0.127454 -0.009578   \n",
       "discount percent  -0.009721 -0.004460 -0.017332  0.028198 -0.047841   \n",
       "shipping_cost     -0.163154 -0.002504 -0.092730  0.049464  0.043306   \n",
       "Days to Ship       0.719340  0.006635  0.006612 -0.002431 -0.003734   \n",
       "Classes           -0.008799 -0.000027  0.030859 -0.086437 -0.040853   \n",
       "\n",
       "                  order_priority  cost price  quantity  discount percent  \\\n",
       "ship_mode               0.404562    0.002676  0.004688         -0.009721   \n",
       "segment                 0.014027    0.000077  0.001593         -0.004460   \n",
       "market                 -0.000213   -0.101445  0.077911         -0.017332   \n",
       "region                 -0.003372    0.055697  0.127454          0.028198   \n",
       "category               -0.006390    0.046664 -0.009578         -0.047841   \n",
       "order_priority          1.000000   -0.001400  0.004435          0.005411   \n",
       "cost price             -0.001400    1.000000  0.403163         -0.204172   \n",
       "quantity                0.004435    0.403163  1.000000         -0.019875   \n",
       "discount percent        0.005411   -0.204172 -0.019875          1.000000   \n",
       "shipping_cost          -0.240183    0.908664  0.362727         -0.186483   \n",
       "Days to Ship            0.488164   -0.001558  0.004347         -0.001507   \n",
       "Classes                -0.001448   -0.861036 -0.565544          0.348802   \n",
       "\n",
       "                  shipping_cost  Days to Ship   Classes  \n",
       "ship_mode             -0.163154      0.719340 -0.008799  \n",
       "segment               -0.002504      0.006635 -0.000027  \n",
       "market                -0.092730      0.006612  0.030859  \n",
       "region                 0.049464     -0.002431 -0.086437  \n",
       "category               0.043306     -0.003734 -0.040853  \n",
       "order_priority        -0.240183      0.488164 -0.001448  \n",
       "cost price             0.908664     -0.001558 -0.861036  \n",
       "quantity               0.362727      0.004347 -0.565544  \n",
       "discount percent      -0.186483     -0.001507  0.348802  \n",
       "shipping_cost          1.000000     -0.158767 -0.781511  \n",
       "Days to Ship          -0.158767      1.000000 -0.005118  \n",
       "Classes               -0.781511     -0.005118  1.000000  "
      ]
     },
     "execution_count": 90,
     "metadata": {},
     "output_type": "execute_result"
    }
   ],
   "source": [
    "df.corr()"
   ]
  },
  {
   "cell_type": "code",
   "execution_count": 91,
   "metadata": {},
   "outputs": [
    {
     "data": {
      "image/png": "[encoded data removed]",
      "text/plain": [
       "<Figure size 1008x432 with 2 Axes>"
      ]
     },
     "metadata": {
      "needs_background": "light"
     },
     "output_type": "display_data"
    }
   ],
   "source": [
    "plt.figure(figsize=(14,6))\n",
    "sns.heatmap(df.corr(),annot=True)\n",
    "plt.show()"
   ]
  },
  {
   "cell_type": "markdown",
   "metadata": {},
   "source": [
    "##### Here, the Days to Ship and Ship Mode have Muliti Collinearity. So dropping Ship_mode"
   ]
  },
  {
   "cell_type": "code",
   "execution_count": 92,
   "metadata": {},
   "outputs": [],
   "source": [
    "df.drop('ship_mode',axis=1,inplace=True)"
   ]
  },
  {
   "cell_type": "markdown",
   "metadata": {},
   "source": [
    "## Train Test Split"
   ]
  },
  {
   "cell_type": "code",
   "execution_count": 93,
   "metadata": {},
   "outputs": [],
   "source": [
    "X = df.drop('Classes',axis=1)\n",
    "y = df['Classes']"
   ]
  },
  {
   "cell_type": "code",
   "execution_count": 94,
   "metadata": {},
   "outputs": [],
   "source": [
    "x_train,x_test,y_train,y_test = train_test_split(X,y)"
   ]
  },
  {
   "cell_type": "markdown",
   "metadata": {},
   "source": [
    "## Model Building\n",
    "\n",
    "### Logistic Regression"
   ]
  },
  {
   "cell_type": "code",
   "execution_count": 95,
   "metadata": {},
   "outputs": [
    {
     "name": "stdout",
     "output_type": "stream",
     "text": [
      "Confusion Matrix\n",
      " [[3049  231    0    0]\n",
      " [ 116 2808  196    2]\n",
      " [   1  297 2542  305]\n",
      " [   4   12  366 2894]]\n",
      "\n",
      "Accuracy =  0.8806831474693909\n",
      "\n",
      "Recall =  0.8801645228136926\n",
      "\n",
      "Precision =  0.8808937751220132\n",
      "\n",
      "F1 Score =  0.8801565753413778\n"
     ]
    }
   ],
   "source": [
    "model_lr = LogisticRegression(multi_class='multinomial')\n",
    "model_lr.fit(x_train,y_train)\n",
    "\n",
    "y_pred = model_lr.predict(x_test)\n",
    "\n",
    "conf_matrix = confusion_matrix(y_test,y_pred)\n",
    "print(\"Confusion Matrix\\n\",conf_matrix)\n",
    "\n",
    "acc_score = accuracy_score(y_test,y_pred)\n",
    "print(\"\\nAccuracy = \",acc_score)\n",
    "\n",
    "print(\"\\nRecall = \",recall_score(y_test,y_pred,average='macro'))\n",
    "\n",
    "print('\\nPrecision = ',precision_score(y_test,y_pred,average='macro'))\n",
    "\n",
    "print('\\nF1 Score = ',f1_score(y_test,y_pred,average='macro'))"
   ]
  },
  {
   "cell_type": "markdown",
   "metadata": {},
   "source": [
    "### K Nearest Neighbors"
   ]
  },
  {
   "cell_type": "code",
   "execution_count": 96,
   "metadata": {},
   "outputs": [
    {
     "name": "stdout",
     "output_type": "stream",
     "text": [
      "\n",
      "Accuracy =  0.7994229119550808\n",
      "\n",
      "Recall =  0.7986975564959525\n",
      "\n",
      "Precision =  0.8042138309663364\n",
      "\n",
      "F1 Score =  0.7998940871727229\n"
     ]
    }
   ],
   "source": [
    "model_knn = KNeighborsClassifier()\n",
    "model_knn.fit(x_train,y_train)\n",
    "\n",
    "y_pred = model_knn.predict(x_test)\n",
    "\n",
    "acc_score = accuracy_score(y_test,y_pred)\n",
    "print(\"\\nAccuracy = \",acc_score)\n",
    "\n",
    "print(\"\\nRecall = \",recall_score(y_test,y_pred,average='macro'))\n",
    "\n",
    "print('\\nPrecision = ',precision_score(y_test,y_pred,average='macro'))\n",
    "\n",
    "print('\\nF1 Score = ',f1_score(y_test,y_pred,average='macro'))"
   ]
  },
  {
   "cell_type": "markdown",
   "metadata": {},
   "source": [
    "### Support Vector Classifier"
   ]
  },
  {
   "cell_type": "code",
   "execution_count": 97,
   "metadata": {},
   "outputs": [
    {
     "name": "stdout",
     "output_type": "stream",
     "text": [
      "\n",
      "Accuracy =  0.9301255556422054\n",
      "\n",
      "Recall =  0.9298965027891568\n",
      "\n",
      "Precision =  0.9308235289224005\n",
      "\n",
      "F1 Score =  0.9299488470676284\n"
     ]
    }
   ],
   "source": [
    "model_svc = SVC()\n",
    "model_svc.fit(x_train,y_train)\n",
    "\n",
    "y_pred = model_svc.predict(x_test)\n",
    "\n",
    "acc_score = accuracy_score(y_test,y_pred)\n",
    "print(\"\\nAccuracy = \",acc_score)\n",
    "\n",
    "print(\"\\nRecall = \",recall_score(y_test,y_pred,average='macro'))\n",
    "\n",
    "print('\\nPrecision = ',precision_score(y_test,y_pred,average='macro'))\n",
    "\n",
    "print('\\nF1 Score = ',f1_score(y_test,y_pred,average='macro'))"
   ]
  },
  {
   "cell_type": "markdown",
   "metadata": {},
   "source": [
    "### Decision Tree"
   ]
  },
  {
   "cell_type": "code",
   "execution_count": 98,
   "metadata": {},
   "outputs": [
    {
     "name": "stdout",
     "output_type": "stream",
     "text": [
      "\n",
      "Accuracy =  0.9461904390548234\n",
      "\n",
      "Recall =  0.9457418815458919\n",
      "\n",
      "Precision =  0.9457053932531306\n",
      "\n",
      "F1 Score =  0.9457174413043063\n"
     ]
    }
   ],
   "source": [
    "model_dtc = DecisionTreeClassifier()\n",
    "model_dtc.fit(x_train,y_train)\n",
    "\n",
    "y_pred = model_dtc.predict(x_test)\n",
    "\n",
    "acc_score = accuracy_score(y_test,y_pred)\n",
    "print(\"\\nAccuracy = \",acc_score)\n",
    "\n",
    "print(\"\\nRecall = \",recall_score(y_test,y_pred,average='macro'))\n",
    "\n",
    "print('\\nPrecision = ',precision_score(y_test,y_pred,average='macro'))\n",
    "\n",
    "print('\\nF1 Score = ',f1_score(y_test,y_pred,average='macro'))"
   ]
  },
  {
   "cell_type": "markdown",
   "metadata": {},
   "source": [
    "### Random Forest Classifier"
   ]
  },
  {
   "cell_type": "code",
   "execution_count": 99,
   "metadata": {},
   "outputs": [
    {
     "name": "stdout",
     "output_type": "stream",
     "text": [
      "\n",
      "Accuracy =  0.9499337128597052\n",
      "\n",
      "Recall =  0.9496418870686432\n",
      "\n",
      "Precision =  0.949599891386694\n",
      "\n",
      "F1 Score =  0.9495944434339287\n"
     ]
    }
   ],
   "source": [
    "model_rf = RandomForestClassifier()\n",
    "model_rf.fit(x_train,y_train)\n",
    "\n",
    "y_pred = model_rf.predict(x_test)\n",
    "\n",
    "acc_score = accuracy_score(y_test,y_pred)\n",
    "print(\"\\nAccuracy = \",acc_score)\n",
    "\n",
    "print(\"\\nRecall = \",recall_score(y_test,y_pred,average='macro'))\n",
    "\n",
    "print('\\nPrecision = ',precision_score(y_test,y_pred,average='macro'))\n",
    "\n",
    "print('\\nF1 Score = ',f1_score(y_test,y_pred,average='macro'))"
   ]
  },
  {
   "cell_type": "markdown",
   "metadata": {},
   "source": [
    "## Pyevals For Most Of the Classification Algorithms"
   ]
  },
  {
   "cell_type": "code",
   "execution_count": 100,
   "metadata": {
    "scrolled": false
   },
   "outputs": [
    {
     "name": "stdout",
     "output_type": "stream",
     "text": [
      "MultinomialNaiveBayes algorithm cannot be performed with standard scalar!.\n"
     ]
    },
    {
     "data": {
      "text/html": [
       "<style  type=\"text/css\" >\n",
       "    #T_6e903e24_30fc_11ed_85b2_54bf6447326brow3_col0 {\n",
       "            background-color:  yellow;\n",
       "        }    #T_6e903e24_30fc_11ed_85b2_54bf6447326brow3_col1 {\n",
       "            background-color:  yellow;\n",
       "        }    #T_6e903e24_30fc_11ed_85b2_54bf6447326brow3_col2 {\n",
       "            background-color:  yellow;\n",
       "        }    #T_6e903e24_30fc_11ed_85b2_54bf6447326brow3_col3 {\n",
       "            background-color:  yellow;\n",
       "        }</style><table id=\"T_6e903e24_30fc_11ed_85b2_54bf6447326b\" ><thead>    <tr>        <th class=\"blank level0\" ></th>        <th class=\"col_heading level0 col0\" >Accuracy</th>        <th class=\"col_heading level0 col1\" >RecallScore</th>        <th class=\"col_heading level0 col2\" >PresicionScore</th>        <th class=\"col_heading level0 col3\" >f1Score</th>    </tr></thead><tbody>\n",
       "                <tr>\n",
       "                        <th id=\"T_6e903e24_30fc_11ed_85b2_54bf6447326blevel0_row0\" class=\"row_heading level0 row0\" >KNN</th>\n",
       "                        <td id=\"T_6e903e24_30fc_11ed_85b2_54bf6447326brow0_col0\" class=\"data row0 col0\" >0.799423</td>\n",
       "                        <td id=\"T_6e903e24_30fc_11ed_85b2_54bf6447326brow0_col1\" class=\"data row0 col1\" >0.798698</td>\n",
       "                        <td id=\"T_6e903e24_30fc_11ed_85b2_54bf6447326brow0_col2\" class=\"data row0 col2\" >0.804214</td>\n",
       "                        <td id=\"T_6e903e24_30fc_11ed_85b2_54bf6447326brow0_col3\" class=\"data row0 col3\" >0.799894</td>\n",
       "            </tr>\n",
       "            <tr>\n",
       "                        <th id=\"T_6e903e24_30fc_11ed_85b2_54bf6447326blevel0_row1\" class=\"row_heading level0 row1\" >LogisticRegression</th>\n",
       "                        <td id=\"T_6e903e24_30fc_11ed_85b2_54bf6447326brow1_col0\" class=\"data row1 col0\" >0.880683</td>\n",
       "                        <td id=\"T_6e903e24_30fc_11ed_85b2_54bf6447326brow1_col1\" class=\"data row1 col1\" >0.880165</td>\n",
       "                        <td id=\"T_6e903e24_30fc_11ed_85b2_54bf6447326brow1_col2\" class=\"data row1 col2\" >0.880894</td>\n",
       "                        <td id=\"T_6e903e24_30fc_11ed_85b2_54bf6447326brow1_col3\" class=\"data row1 col3\" >0.880157</td>\n",
       "            </tr>\n",
       "            <tr>\n",
       "                        <th id=\"T_6e903e24_30fc_11ed_85b2_54bf6447326blevel0_row2\" class=\"row_heading level0 row2\" >DecisionTreeClassifier</th>\n",
       "                        <td id=\"T_6e903e24_30fc_11ed_85b2_54bf6447326brow2_col0\" class=\"data row2 col0\" >0.946112</td>\n",
       "                        <td id=\"T_6e903e24_30fc_11ed_85b2_54bf6447326brow2_col1\" class=\"data row2 col1\" >0.945665</td>\n",
       "                        <td id=\"T_6e903e24_30fc_11ed_85b2_54bf6447326brow2_col2\" class=\"data row2 col2\" >0.945626</td>\n",
       "                        <td id=\"T_6e903e24_30fc_11ed_85b2_54bf6447326brow2_col3\" class=\"data row2 col3\" >0.945638</td>\n",
       "            </tr>\n",
       "            <tr>\n",
       "                        <th id=\"T_6e903e24_30fc_11ed_85b2_54bf6447326blevel0_row3\" class=\"row_heading level0 row3\" >RandomForestClassifier</th>\n",
       "                        <td id=\"T_6e903e24_30fc_11ed_85b2_54bf6447326brow3_col0\" class=\"data row3 col0\" >0.950948</td>\n",
       "                        <td id=\"T_6e903e24_30fc_11ed_85b2_54bf6447326brow3_col1\" class=\"data row3 col1\" >0.950654</td>\n",
       "                        <td id=\"T_6e903e24_30fc_11ed_85b2_54bf6447326brow3_col2\" class=\"data row3 col2\" >0.950595</td>\n",
       "                        <td id=\"T_6e903e24_30fc_11ed_85b2_54bf6447326brow3_col3\" class=\"data row3 col3\" >0.950597</td>\n",
       "            </tr>\n",
       "            <tr>\n",
       "                        <th id=\"T_6e903e24_30fc_11ed_85b2_54bf6447326blevel0_row4\" class=\"row_heading level0 row4\" >SupportVectorClassifier</th>\n",
       "                        <td id=\"T_6e903e24_30fc_11ed_85b2_54bf6447326brow4_col0\" class=\"data row4 col0\" >0.930126</td>\n",
       "                        <td id=\"T_6e903e24_30fc_11ed_85b2_54bf6447326brow4_col1\" class=\"data row4 col1\" >0.929897</td>\n",
       "                        <td id=\"T_6e903e24_30fc_11ed_85b2_54bf6447326brow4_col2\" class=\"data row4 col2\" >0.930824</td>\n",
       "                        <td id=\"T_6e903e24_30fc_11ed_85b2_54bf6447326brow4_col3\" class=\"data row4 col3\" >0.929949</td>\n",
       "            </tr>\n",
       "            <tr>\n",
       "                        <th id=\"T_6e903e24_30fc_11ed_85b2_54bf6447326blevel0_row5\" class=\"row_heading level0 row5\" >QuadraticDiscriminantSnalysis</th>\n",
       "                        <td id=\"T_6e903e24_30fc_11ed_85b2_54bf6447326brow5_col0\" class=\"data row5 col0\" >0.898854</td>\n",
       "                        <td id=\"T_6e903e24_30fc_11ed_85b2_54bf6447326brow5_col1\" class=\"data row5 col1\" >0.898343</td>\n",
       "                        <td id=\"T_6e903e24_30fc_11ed_85b2_54bf6447326brow5_col2\" class=\"data row5 col2\" >0.899657</td>\n",
       "                        <td id=\"T_6e903e24_30fc_11ed_85b2_54bf6447326brow5_col3\" class=\"data row5 col3\" >0.898693</td>\n",
       "            </tr>\n",
       "            <tr>\n",
       "                        <th id=\"T_6e903e24_30fc_11ed_85b2_54bf6447326blevel0_row6\" class=\"row_heading level0 row6\" >SGDClassifier</th>\n",
       "                        <td id=\"T_6e903e24_30fc_11ed_85b2_54bf6447326brow6_col0\" class=\"data row6 col0\" >0.711924</td>\n",
       "                        <td id=\"T_6e903e24_30fc_11ed_85b2_54bf6447326brow6_col1\" class=\"data row6 col1\" >0.705830</td>\n",
       "                        <td id=\"T_6e903e24_30fc_11ed_85b2_54bf6447326brow6_col2\" class=\"data row6 col2\" >0.738567</td>\n",
       "                        <td id=\"T_6e903e24_30fc_11ed_85b2_54bf6447326brow6_col3\" class=\"data row6 col3\" >0.658134</td>\n",
       "            </tr>\n",
       "            <tr>\n",
       "                        <th id=\"T_6e903e24_30fc_11ed_85b2_54bf6447326blevel0_row7\" class=\"row_heading level0 row7\" >AdaBoost</th>\n",
       "                        <td id=\"T_6e903e24_30fc_11ed_85b2_54bf6447326brow7_col0\" class=\"data row7 col0\" >0.747797</td>\n",
       "                        <td id=\"T_6e903e24_30fc_11ed_85b2_54bf6447326brow7_col1\" class=\"data row7 col1\" >0.751395</td>\n",
       "                        <td id=\"T_6e903e24_30fc_11ed_85b2_54bf6447326brow7_col2\" class=\"data row7 col2\" >0.814186</td>\n",
       "                        <td id=\"T_6e903e24_30fc_11ed_85b2_54bf6447326brow7_col3\" class=\"data row7 col3\" >0.735134</td>\n",
       "            </tr>\n",
       "            <tr>\n",
       "                        <th id=\"T_6e903e24_30fc_11ed_85b2_54bf6447326blevel0_row8\" class=\"row_heading level0 row8\" >CalibratedClassifier</th>\n",
       "                        <td id=\"T_6e903e24_30fc_11ed_85b2_54bf6447326brow8_col0\" class=\"data row8 col0\" >0.863682</td>\n",
       "                        <td id=\"T_6e903e24_30fc_11ed_85b2_54bf6447326brow8_col1\" class=\"data row8 col1\" >0.861233</td>\n",
       "                        <td id=\"T_6e903e24_30fc_11ed_85b2_54bf6447326brow8_col2\" class=\"data row8 col2\" >0.859760</td>\n",
       "                        <td id=\"T_6e903e24_30fc_11ed_85b2_54bf6447326brow8_col3\" class=\"data row8 col3\" >0.859258</td>\n",
       "            </tr>\n",
       "            <tr>\n",
       "                        <th id=\"T_6e903e24_30fc_11ed_85b2_54bf6447326blevel0_row9\" class=\"row_heading level0 row9\" >MultinomialNB</th>\n",
       "                        <td id=\"T_6e903e24_30fc_11ed_85b2_54bf6447326brow9_col0\" class=\"data row9 col0\" >0.000000</td>\n",
       "                        <td id=\"T_6e903e24_30fc_11ed_85b2_54bf6447326brow9_col1\" class=\"data row9 col1\" >0.000000</td>\n",
       "                        <td id=\"T_6e903e24_30fc_11ed_85b2_54bf6447326brow9_col2\" class=\"data row9 col2\" >0.000000</td>\n",
       "                        <td id=\"T_6e903e24_30fc_11ed_85b2_54bf6447326brow9_col3\" class=\"data row9 col3\" >0.000000</td>\n",
       "            </tr>\n",
       "            <tr>\n",
       "                        <th id=\"T_6e903e24_30fc_11ed_85b2_54bf6447326blevel0_row10\" class=\"row_heading level0 row10\" >BernoulliNB</th>\n",
       "                        <td id=\"T_6e903e24_30fc_11ed_85b2_54bf6447326brow10_col0\" class=\"data row10 col0\" >0.385635</td>\n",
       "                        <td id=\"T_6e903e24_30fc_11ed_85b2_54bf6447326brow10_col1\" class=\"data row10 col1\" >0.383044</td>\n",
       "                        <td id=\"T_6e903e24_30fc_11ed_85b2_54bf6447326brow10_col2\" class=\"data row10 col2\" >0.376090</td>\n",
       "                        <td id=\"T_6e903e24_30fc_11ed_85b2_54bf6447326brow10_col3\" class=\"data row10 col3\" >0.361115</td>\n",
       "            </tr>\n",
       "            <tr>\n",
       "                        <th id=\"T_6e903e24_30fc_11ed_85b2_54bf6447326blevel0_row11\" class=\"row_heading level0 row11\" >GaussianNB</th>\n",
       "                        <td id=\"T_6e903e24_30fc_11ed_85b2_54bf6447326brow11_col0\" class=\"data row11 col0\" >0.779069</td>\n",
       "                        <td id=\"T_6e903e24_30fc_11ed_85b2_54bf6447326brow11_col1\" class=\"data row11 col1\" >0.778093</td>\n",
       "                        <td id=\"T_6e903e24_30fc_11ed_85b2_54bf6447326brow11_col2\" class=\"data row11 col2\" >0.787734</td>\n",
       "                        <td id=\"T_6e903e24_30fc_11ed_85b2_54bf6447326brow11_col3\" class=\"data row11 col3\" >0.781124</td>\n",
       "            </tr>\n",
       "    </tbody></table>"
      ],
      "text/plain": [
       "<pandas.io.formats.style.Styler at 0x2885118ebe0>"
      ]
     },
     "execution_count": 100,
     "metadata": {},
     "output_type": "execute_result"
    }
   ],
   "source": [
    "#import pyevals\n",
    "\n",
    "#Object = pyevals.build(x_train,x_test,y_train,y_test,'classification')\n",
    "#Object.evaluate()"
   ]
  },
  {
   "cell_type": "markdown",
   "metadata": {},
   "source": [
    "### From the Above We can Conclude That RandomForest Classifier is best Algorithm For this DataSet."
   ]
  },
  {
   "cell_type": "markdown",
   "metadata": {},
   "source": [
    "## Deployment"
   ]
  },
  {
   "cell_type": "markdown",
   "metadata": {},
   "source": [
    "### Converting LabelEncoders to Pickle File So that can be used During Deployment"
   ]
  },
  {
   "cell_type": "code",
   "execution_count": 103,
   "metadata": {},
   "outputs": [
    {
     "data": {
      "text/plain": [
       "Index(['segment', 'market', 'region', 'category', 'order_priority',\n",
       "       'cost price', 'quantity', 'discount percent', 'shipping_cost',\n",
       "       'Days to Ship', 'Classes'],\n",
       "      dtype='object')"
      ]
     },
     "execution_count": 103,
     "metadata": {},
     "output_type": "execute_result"
    }
   ],
   "source": [
    "df.columns"
   ]
  },
  {
   "cell_type": "code",
   "execution_count": 104,
   "metadata": {},
   "outputs": [],
   "source": [
    "import pickle\n",
    "\n",
    "# Segment Encoder\n",
    "\n",
    "file = open('segment_encoder.pkl', 'wb')\n",
    "pickle.dump(segment_encoder, file)\n",
    "file.close()\n",
    "\n",
    "# Market Encoder\n",
    "\n",
    "file = open('market_encoder.pkl', 'wb')\n",
    "pickle.dump(market_encoder, file)\n",
    "file.close()\n",
    "\n",
    "# Region Encoder\n",
    "\n",
    "file = open('region_encoder.pkl', 'wb')\n",
    "pickle.dump(region_encoder, file)\n",
    "file.close()\n",
    "\n",
    "# Category Encoder \n",
    "\n",
    "file = open('category_encoder.pkl', 'wb')\n",
    "pickle.dump(category_encoder, file)\n",
    "file.close()\n",
    "\n",
    "# Order Priority Encoder\n",
    "\n",
    "file = open('order_priority_encoder.pkl', 'wb')\n",
    "pickle.dump(order_priority_encoder, file)\n",
    "file.close()\n",
    "\n",
    "## For Cost Price, Shipping Price :- Log of that Value is To be considered while taking Input"
   ]
  },
  {
   "cell_type": "code",
   "execution_count": 105,
   "metadata": {},
   "outputs": [],
   "source": [
    "## Random Forest Classifier Model\n",
    "\n",
    "file = open('RandomForestClassifier_Model.pkl', 'wb')\n",
    "pickle.dump(model_rf, file)\n",
    "file.close()\n",
    " "
   ]
  },
  {
   "cell_type": "code",
   "execution_count": null,
   "metadata": {},
   "outputs": [],
   "source": [
    "## seg_enc = pickle.load(open('segment_encoder.pkl', 'rb'))"
   ]
  },
  {
   "cell_type": "code",
   "execution_count": null,
   "metadata": {},
   "outputs": [],
   "source": []
  },
  {
   "cell_type": "code",
   "execution_count": null,
   "metadata": {},
   "outputs": [],
   "source": []
  }
 ],
 "metadata": {
  "kernelspec": {
   "display_name": "Python 3",
   "language": "python",
   "name": "python3"
  },
  "language_info": {
   "codemirror_mode": {
    "name": "ipython",
    "version": 3
   },
   "file_extension": ".py",
   "mimetype": "text/x-python",
   "name": "python",
   "nbconvert_exporter": "python",
   "pygments_lexer": "ipython3",
   "version": "3.7.3"
  }
 },
 "nbformat": 4,
 "nbformat_minor": 2
}
